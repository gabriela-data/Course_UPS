{
  "cells": [
    {
      "cell_type": "markdown",
      "metadata": {
        "id": "view-in-github",
        "colab_type": "text"
      },
      "source": [
        "<a href=\"https://colab.research.google.com/github/gabriela-data/Course_UPS/blob/main/USP.ipynb\" target=\"_parent\"><img src=\"https://colab.research.google.com/assets/colab-badge.svg\" alt=\"Open In Colab\"/></a>"
      ]
    },
    {
      "cell_type": "markdown",
      "metadata": {
        "id": "1GN9ksAA4F4W"
      },
      "source": [
        "# Estruturas de dados"
      ]
    },
    {
      "cell_type": "markdown",
      "metadata": {
        "id": "1N_IEEDVShvZ"
      },
      "source": [
        "## Questão 1\n",
        "\n",
        "Crie uma lista de temperaturas de dez países\n",
        "https://pt.wikipedia.org/wiki/Lista_de_pa%C3%ADses_por_extremos_meteorol%C3%B3gicos\n",
        "Escreva em cada célula de um notebook o acesso a elementos da lista para calcular a temperatura em graus Fahrenheit:\n",
        "C = (5 * (F-32) / 9).\n"
      ]
    },
    {
      "cell_type": "code",
      "execution_count": null,
      "metadata": {
        "id": "bUKq6WucTWlx",
        "colab": {
          "base_uri": "https://localhost:8080/"
        },
        "outputId": "ee55f616-e3f0-437b-e3d8-d8569f247a81"
      },
      "outputs": [
        {
          "output_type": "stream",
          "name": "stdout",
          "text": [
            "A temperatura convertida em Fahrenheit é: -29.02\n",
            "A temperatura convertida em Fahrenheit é: 21.20\n",
            "A temperatura convertida em Fahrenheit é: -62.14\n",
            "A temperatura convertida em Fahrenheit é: 50.00\n",
            "A temperatura convertida em Fahrenheit é: 36.68\n",
            "A temperatura convertida em Fahrenheit é: -43.60\n",
            "A temperatura convertida em Fahrenheit é: 10.40\n",
            "A temperatura convertida em Fahrenheit é: -61.96\n",
            "A temperatura convertida em Fahrenheit é: 19.94\n",
            "A temperatura convertida em Fahrenheit é: 30.20\n"
          ]
        }
      ],
      "source": [
        "# Criando uma lista vazia\n",
        "temperaturas = []\n",
        "\n",
        "\n",
        "# Adicionando os valores na lista\n",
        "temperaturas.append(-33.9) # Índia\n",
        "temperaturas.append(-6.0) # Hong Kong\n",
        "temperaturas.append(-52.3) # China\n",
        "temperaturas.append(10.0) # Camboja\n",
        "temperaturas.append(2.6) # Bangladesh\n",
        "temperaturas.append(-42.0) # Armênia\n",
        "temperaturas.append(-12.0) # Arábia Saudita\n",
        "temperaturas.append(-52.2) # Afeganistão\n",
        "temperaturas.append(-6.7) # Essuatíni\n",
        "temperaturas.append(-1.0 ) # Sudão\n",
        "\n",
        "\n",
        "# Verificando dados incluídos na lista\n",
        "temperaturas\n",
        "\n",
        "\n",
        "# Transformando Celsius em Fahrenheit - Índia\n",
        "for C in temperaturas:\n",
        "      F = (C*9/5) + 32\n",
        "\n",
        "      print(f'A temperatura convertida em Fahrenheit é: {F:.2f}')"
      ]
    },
    {
      "cell_type": "markdown",
      "metadata": {
        "id": "-nASCG3NTgdi"
      },
      "source": [
        "\n",
        "\n",
        "---\n",
        "\n"
      ]
    },
    {
      "cell_type": "markdown",
      "metadata": {
        "id": "-fQjcGZMTh_v"
      },
      "source": [
        "## Questão 2\n",
        "\n",
        "Tendo como dados de entrada a altura média por país https://pt.wikipedia.org/wiki/Estatura C crie um dicionário com 10 países, com chave como nome do país e valor como altura média, imprima em cada linha de um notebook o peso ideal : (72.7*altura) - 58 por país, utilizando o dicionário e o operador de formatação (f'')."
      ]
    },
    {
      "cell_type": "code",
      "execution_count": null,
      "metadata": {
        "id": "Li6d5hHRUBqY",
        "colab": {
          "base_uri": "https://localhost:8080/"
        },
        "outputId": "4cd48398-eccd-45d6-97be-702d9bdddaee"
      },
      "outputs": [
        {
          "output_type": "stream",
          "name": "stdout",
          "text": [
            "O peso ideal para uma pessoa em Filipinas, com altura média de 151.8 metros, é: 10977.86 kg\n",
            "O peso ideal para uma pessoa em Estados Unidos, com altura média de 158.0 metros, é: 11428.60 kg\n",
            "O peso ideal para uma pessoa em Estônia, com altura média de 168.23 metros, é: 12172.32 kg\n",
            "O peso ideal para uma pessoa em Cuba, com altura média de 155.0 metros, é: 11210.50 kg\n",
            "O peso ideal para uma pessoa em China, com altura média de 161.2 metros, é: 11661.24 kg\n",
            "O peso ideal para uma pessoa em Colômbia, com altura média de 159.4 metros, é: 11530.38 kg\n",
            "O peso ideal para uma pessoa em Chile, com altura média de 157.2 metros, é: 11370.44 kg\n",
            "O peso ideal para uma pessoa em Canadá, com altura média de 161.0 metros, é: 11646.70 kg\n",
            "O peso ideal para uma pessoa em Camarões, com altura média de 161.3 metros, é: 11668.51 kg\n",
            "O peso ideal para uma pessoa em Brasil, com altura média de 158.0 metros, é: 11428.60 kg\n"
          ]
        }
      ],
      "source": [
        "dic = {\n",
        "    \"Filipinas\": 151.8,\n",
        "    \"Estados Unidos\": 158.0,\n",
        "    \"Estônia\" : 168.23,\n",
        "    \"Cuba\" : 155.0,\n",
        "    \"China\" : 161.2,\n",
        "    \"Colômbia\" : 159.4,\n",
        "    \"Chile\" : 157.2,\n",
        "    \"Canadá\" : 161.0,\n",
        "    \"Camarões\" : 161.3,\n",
        "    \"Brasil\" : 158.0\n",
        "}\n",
        "\n",
        "\n",
        "for pais, altura in dic.items():\n",
        "  peso_ideal = (72.7 * altura) - 58\n",
        "  print(f\"O peso ideal para uma pessoa em {pais}, com altura média de {altura} metros, é: {peso_ideal:.2f} kg\")"
      ]
    },
    {
      "cell_type": "markdown",
      "metadata": {
        "id": "42Mht08VjgB_"
      },
      "source": [
        "\n",
        "\n",
        "---\n",
        "\n"
      ]
    },
    {
      "cell_type": "markdown",
      "metadata": {
        "id": "pt6-HrqdjiEd"
      },
      "source": [
        "## Questão 3\n",
        "\n",
        "Faça a conversão do valor de bolsas de pós-graduação de três países para Reais, imprimindo o salário de uma jornada de 40h semanais:\n",
        "https://exame.abril.com.br/carreira/confira-63-bolsas-para-estudar-em-paises-como-canada-eua-e-alemanha/\n",
        "\n",
        "Por hora trabalhada;\n",
        "\n",
        "Por mês;\n",
        "\n",
        "Por ano."
      ]
    },
    {
      "cell_type": "code",
      "execution_count": null,
      "metadata": {
        "id": "Zi3Q-RcSyB4E",
        "colab": {
          "base_uri": "https://localhost:8080/"
        },
        "outputId": "9531c406-ec3a-4516-f8f3-51c2f64df29f"
      },
      "outputs": [
        {
          "output_type": "stream",
          "name": "stdout",
          "text": [
            "Canadá:\n",
            "Salário por hora: R$38.46\n",
            "Salário por mês: R$6153.85\n",
            "Salário por ano: R$73846.15\n",
            "-------------------------\n",
            "EUA:\n",
            "Salário por hora: R$72.12\n",
            "Salário por mês: R$11538.46\n",
            "Salário por ano: R$138461.54\n",
            "-------------------------\n",
            "Alemanha:\n",
            "Salário por hora: R$39.66\n",
            "Salário por mês: R$6346.15\n",
            "Salário por ano: R$76153.85\n"
          ]
        }
      ],
      "source": [
        "# Valores de bolsas (aproximados, baseados no artigo)\n",
        "bolsa_canada_cad = 20000  # Dólar canadense\n",
        "bolsa_eua_usd = 30000  # Dólar americano\n",
        "bolsa_alemanha_eur = 15000  # Euro\n",
        "\n",
        "# Cotações aproximadas\n",
        "cotacao_cad_brl = 4.0\n",
        "cotacao_usd_brl = 5.0\n",
        "cotacao_eur_brl = 5.5\n",
        "\n",
        "# Conversão para Reais\n",
        "bolsa_canada_brl = bolsa_canada_cad * cotacao_cad_brl\n",
        "bolsa_eua_brl = bolsa_eua_usd * cotacao_usd_brl\n",
        "bolsa_alemanha_brl = bolsa_alemanha_eur * cotacao_eur_brl\n",
        "\n",
        "# Jornada de trabalho semanal\n",
        "horas_semanais = 40\n",
        "\n",
        "# Cálculo do salário por hora, mês e ano (considerando 4 semanas no mês e 12 meses no ano)\n",
        "salario_hora_canada = bolsa_canada_brl / (52 * horas_semanais)\n",
        "salario_mes_canada = salario_hora_canada * horas_semanais * 4\n",
        "salario_ano_canada = salario_mes_canada * 12\n",
        "\n",
        "salario_hora_eua = bolsa_eua_brl / (52 * horas_semanais)\n",
        "salario_mes_eua = salario_hora_eua * horas_semanais * 4\n",
        "salario_ano_eua = salario_mes_eua * 12\n",
        "\n",
        "salario_hora_alemanha = bolsa_alemanha_brl / (52 * horas_semanais)\n",
        "salario_mes_alemanha = salario_hora_alemanha * horas_semanais * 4\n",
        "salario_ano_alemanha = salario_mes_alemanha * 12\n",
        "\n",
        "\n",
        "print(\"Canadá:\")\n",
        "print(f\"Salário por hora: R${salario_hora_canada:.2f}\")\n",
        "print(f\"Salário por mês: R${salario_mes_canada:.2f}\")\n",
        "print(f\"Salário por ano: R${salario_ano_canada:.2f}\")\n",
        "print(\"-------------------------\")\n",
        "print(\"EUA:\")\n",
        "print(f\"Salário por hora: R${salario_hora_eua:.2f}\")\n",
        "print(f\"Salário por mês: R${salario_mes_eua:.2f}\")\n",
        "print(f\"Salário por ano: R${salario_ano_eua:.2f}\")\n",
        "print(\"-------------------------\")\n",
        "print(\"Alemanha:\")\n",
        "print(f\"Salário por hora: R${salario_hora_alemanha:.2f}\")\n",
        "print(f\"Salário por mês: R${salario_mes_alemanha:.2f}\")\n",
        "print(f\"Salário por ano: R${salario_ano_alemanha:.2f}\")"
      ]
    },
    {
      "cell_type": "markdown",
      "metadata": {
        "id": "YQddD7Ccj_Cl"
      },
      "source": [
        "\n",
        "\n",
        "---\n",
        "\n"
      ]
    },
    {
      "cell_type": "markdown",
      "metadata": {
        "id": "kY1PtrV_376L"
      },
      "source": [
        "# Estruturas de Decisão"
      ]
    },
    {
      "cell_type": "markdown",
      "metadata": {
        "id": "PjT9jIHikAqt"
      },
      "source": [
        "## Questão 1\n",
        "\n",
        "Escreva código em uma célula, para, dado o elemento de uma lista de temperaturas acima, imprimir \"está frio\" se a temperatura for menor que um valor de uma variável t definida por você ou \"está calor\" caso contrário."
      ]
    },
    {
      "cell_type": "code",
      "execution_count": null,
      "metadata": {
        "id": "GM68FpXizvyy",
        "colab": {
          "base_uri": "https://localhost:8080/"
        },
        "outputId": "fd930de0-9496-4aaf-91da-2dfc3f2d07f5"
      },
      "outputs": [
        {
          "output_type": "stream",
          "name": "stdout",
          "text": [
            "Está calor\n",
            "Está frio\n",
            "Está calor\n",
            "Está frio\n",
            "Está frio\n",
            "Está calor\n",
            "Está calor\n",
            "Está calor\n",
            "Está frio\n",
            "Está frio\n"
          ]
        }
      ],
      "source": [
        "# Criando uma lista de temperaturas\n",
        "temperaturas = []\n",
        "\n",
        "\n",
        "# Adicionando os valores na lista\n",
        "temperaturas.append(33.9)\n",
        "temperaturas.append(-6.0)\n",
        "temperaturas.append(52.3)\n",
        "temperaturas.append(10.0)\n",
        "temperaturas.append(2.6)\n",
        "temperaturas.append(42.0)\n",
        "temperaturas.append(35.0)\n",
        "temperaturas.append(52.2)\n",
        "temperaturas.append(6.7)\n",
        "temperaturas.append(1.0)\n",
        "\n",
        "\n",
        "# Verificando dados incluídos na lista\n",
        "temperaturas\n",
        "\n",
        "\n",
        "t = 30\n",
        "\n",
        "for C in temperaturas:\n",
        "    if C>=t:\n",
        "        print('Está calor')\n",
        "    else:\n",
        "        print('Está frio')"
      ]
    },
    {
      "cell_type": "markdown",
      "metadata": {
        "id": "tOh0oMnZ0CKq"
      },
      "source": [
        "\n",
        "\n",
        "---\n",
        "\n"
      ]
    },
    {
      "cell_type": "markdown",
      "metadata": {
        "id": "RNUotXtc0Byk"
      },
      "source": [
        "## Questão 2\n",
        "\n",
        "Um posto está vendendo combustíveis com a seguinte tabela de descontos:\n",
        "Álcool:\n",
        "até 20 litros, desconto de 3% por litro\n",
        "acima de 20 litros, desconto de 5% por litro\n",
        "Gasolina:\n",
        "até 20 litros, desconto de 4% por litro\n",
        "acima de 20 litros, desconto de 6% por litro\n",
        "Escreva um código que leia o número de litros vendidos, o tipo de combustível (codificado da seguinte forma: A-álcool, G-gasolina), calcule e imprima o valor a ser pago pelo cliente sabendo-se que o preço do litro da gasolina é R$ 2,50 o preço do litro do álcool é R$ 1,90.\n"
      ]
    },
    {
      "cell_type": "code",
      "execution_count": null,
      "metadata": {
        "id": "cQRud3iT0Gz8",
        "colab": {
          "base_uri": "https://localhost:8080/"
        },
        "outputId": "cec42b7c-efc7-402e-cf4b-b5762a4f02b2"
      },
      "outputs": [
        {
          "output_type": "stream",
          "name": "stdout",
          "text": [
            "Digite o número de litros vendidos: 3\n",
            "Digite A - álcool, G - gasolina: g\n",
            "O valor a ser pago é de: R$7.20\n"
          ]
        }
      ],
      "source": [
        "# Alcool até 20 litros, desconto de 3% por litro\n",
        "# acima de 20 litros, desconto de 5% por litro\n",
        "# até 20 litros, desconto de 4% por litro\n",
        "# acima de 20 litros, desconto de 6% por litro\n",
        "\n",
        "litros = float(input('Digite o número de litros vendidos: '))\n",
        "combustivel = input('Digite A - álcool, G - gasolina: ')\n",
        "\n",
        "if combustivel == 'A' or combustivel == 'a':\n",
        "    if litros <= 20:\n",
        "        pagar = litros*1.90\n",
        "        valor_desconto = litros*(1.90*0.03)\n",
        "        total = pagar - valor_desconto\n",
        "        print(f'O valor a ser pago é de: R${total:.2f}')\n",
        "    else:\n",
        "        pagar = litros*1.90\n",
        "        valor_desconto = litros*(1.90*0.05)\n",
        "        total = pagar - valor_desconto\n",
        "        print(f'O valor a ser pago é de: R${total:.2f}')\n",
        "\n",
        "elif combustivel == 'G' or combustivel == 'g':\n",
        "    if litros <= 20:\n",
        "        pagar = litros * 2.50\n",
        "        valor_desconto = litros*(2.50*0.04)\n",
        "        total = pagar - valor_desconto\n",
        "        print(f'O valor a ser pago é de: R${total:.2f}')\n",
        "    else:\n",
        "        pagar = litros*2.50\n",
        "        valor_desconto = litros*(2.50*0.06)\n",
        "        total = pagar - valor_desconto\n",
        "        print(f'O valor a ser pago é de: R${total:.2f}')\n",
        "else:\n",
        "    print('Combustível informado inválido')"
      ]
    },
    {
      "cell_type": "markdown",
      "metadata": {
        "id": "m-z-uXTh0QR-"
      },
      "source": [
        "\n",
        "\n",
        "---\n",
        "\n"
      ]
    },
    {
      "cell_type": "markdown",
      "metadata": {
        "id": "-kSt7YD00RQ0"
      },
      "source": [
        "## Questão 3\n",
        "\n",
        "Uma fruteira está vendendo frutas com a seguinte tabela de preços:\n",
        "                     Até 5 Kg           Acima de 5 Kg\n",
        "Morango      $ 2,50 por Kg          $ 2,20 por Kg\n",
        "Maçã           R$ 1,80 por Kg         R$ 1,50 por Kg\n",
        "\n",
        "\n",
        "Se o cliente comprar mais de 8 Kg em frutas ou o valor total da compra ultrapassar R$ 25,00, receberá ainda um desconto de 10% sobre este total. Escreva código para ler a quantidade (em Kg) de morangos e a quantidade (em Kg) de maçãs adquiridas e escreva o valor a ser pago pelo cliente."
      ]
    },
    {
      "cell_type": "code",
      "execution_count": null,
      "metadata": {
        "colab": {
          "base_uri": "https://localhost:8080/"
        },
        "id": "l_7xVW8P0VGp",
        "outputId": "1f9d0aa6-e2ba-4123-8e02-25845471727c"
      },
      "outputs": [
        {
          "output_type": "stream",
          "name": "stdout",
          "text": [
            "Digite a quantidade de morangos em Kg: 5\n",
            "Digite a quantidade de maçãs em Kg: 4\n",
            "Valor dos morangos: 12.50\n",
            "Valor das maçãs: 7.20\n",
            "Valor total: 19.70\n",
            "Valor a ser pago:17.73\n"
          ]
        }
      ],
      "source": [
        "morangos = float(input('Digite a quantidade de morangos em Kg: '))\n",
        "macas = float(input('Digite a quantidade de maçãs em Kg: '))\n",
        "\n",
        "peso_fruta = morangos + macas\n",
        "\n",
        "if morangos <= 5:\n",
        "    valor_morangos = 2.50*morangos\n",
        "\n",
        "else:\n",
        "    valor_morangos = 2.20*morangos\n",
        "\n",
        "print(f'Valor dos morangos: {valor_morangos:.2f}')\n",
        "\n",
        "if macas <= 5:\n",
        "    valor_macas = 1.80*macas\n",
        "\n",
        "else:\n",
        "    valor_macas = 1.50*macas\n",
        "\n",
        "print(f'Valor das maçãs: {valor_macas:.2f}')\n",
        "\n",
        "valor_total = valor_morangos + valor_macas\n",
        "\n",
        "print(f'Valor total: {valor_total:.2f}')\n",
        "\n",
        "if peso_fruta > 8 or valor_total > 25:\n",
        "    total_descontado = valor_total * 0.90\n",
        "\n",
        "else:\n",
        "    total_descontado = valor_total\n",
        "\n",
        "print(f'Valor a ser pago:{total_descontado:.2f}')"
      ]
    },
    {
      "cell_type": "markdown",
      "metadata": {
        "id": "pOT3BD3_1c-5"
      },
      "source": [
        "\n",
        "\n",
        "---\n",
        "\n"
      ]
    },
    {
      "cell_type": "markdown",
      "metadata": {
        "id": "NK4QQmwG3zVg"
      },
      "source": [
        "# Estruturas de Repetição"
      ]
    },
    {
      "cell_type": "markdown",
      "metadata": {
        "id": "rtB8xCq91gh5"
      },
      "source": [
        "## Questão 1\n",
        "Desenvolva um gerador de tabuada, capaz de gerar a tabuada de qualquer número inteiro entre 1 a 10. Dada uma variável k em uma célula calcular a tabuada para o número. A saída deve ser conforme o exemplo abaixo:\n",
        "\n",
        "Tabuada de 5:\n",
        "5 X 1 = 5\n",
        "5 X 2 = 10"
      ]
    },
    {
      "cell_type": "code",
      "execution_count": null,
      "metadata": {
        "colab": {
          "base_uri": "https://localhost:8080/"
        },
        "id": "epDBna7m1hx4",
        "outputId": "9bee1254-3b42-4321-bcd2-cb8c50d0cebe"
      },
      "outputs": [
        {
          "output_type": "stream",
          "name": "stdout",
          "text": [
            "Tabuada de: 7\n",
            "7 X 1 = 7\n",
            "7 X 2 = 14\n",
            "7 X 3 = 21\n",
            "7 X 4 = 28\n",
            "7 X 5 = 35\n",
            "7 X 6 = 42\n",
            "7 X 7 = 49\n",
            "7 X 8 = 56\n",
            "7 X 9 = 63\n",
            "7 X 10 = 70\n"
          ]
        }
      ],
      "source": [
        "# Entrada do valor digitado pelo usuário\n",
        "k = int(input('Tabuada de: '))\n",
        "\n",
        "for i in range(10):\n",
        "    i = i+1\n",
        "    print(f'{k} X {i} = {i*k}')"
      ]
    },
    {
      "cell_type": "markdown",
      "metadata": {
        "id": "GoYy9cl81x6L"
      },
      "source": [
        "\n",
        "\n",
        "---\n",
        "\n"
      ]
    },
    {
      "cell_type": "markdown",
      "metadata": {
        "id": "08cqSsya1y70"
      },
      "source": [
        "## Questão 2\n",
        "\n",
        "Utilize uma estrutura de repetição para imprimir todos os elementos das listas de temperatura e altura criadas acima."
      ]
    },
    {
      "cell_type": "code",
      "execution_count": null,
      "metadata": {
        "colab": {
          "base_uri": "https://localhost:8080/"
        },
        "id": "EMeM06pb2VGn",
        "outputId": "4c9a68df-93d7-42ac-a95c-2243a0e8505b"
      },
      "outputs": [
        {
          "output_type": "stream",
          "name": "stdout",
          "text": [
            "Temperaturas:\n",
            "33.9\n",
            "-6.0\n",
            "52.3\n",
            "10.0\n",
            "2.6\n",
            "42.0\n",
            "35.0\n",
            "52.2\n",
            "6.7\n",
            "1.0\n",
            "\n",
            "Alturas:\n",
            "Filipinas: 151.8\n",
            "Estados Unidos: 158.0\n",
            "Estônia: 168.23\n",
            "Cuba: 155.0\n",
            "China: 161.2\n",
            "Colômbia: 159.4\n",
            "Chile: 157.2\n",
            "Canadá: 161.0\n",
            "Camarões: 161.3\n",
            "Brasil: 158.0\n"
          ]
        }
      ],
      "source": [
        "# Imprimindo elementos da lista de temperaturas\n",
        "print(\"Temperaturas:\")\n",
        "for temperatura in temperaturas:\n",
        "  print(temperatura)\n",
        "\n",
        "# Imprimindo elementos do dicionário de alturas (chave: país, valor: altura)\n",
        "print(\"\\nAlturas:\")\n",
        "for pais, altura in dic.items():\n",
        "  print(f\"{pais}: {altura}\")"
      ]
    },
    {
      "cell_type": "markdown",
      "metadata": {
        "id": "xsDHHnR52ur3"
      },
      "source": [
        "\n",
        "\n",
        "---\n",
        "\n"
      ]
    },
    {
      "cell_type": "markdown",
      "metadata": {
        "id": "_Vq_07HE2vhv"
      },
      "source": [
        "## Questão 3\n",
        "\n",
        "\n",
        "Acesse chaves e valores do dicionário criado acima, e imprima cada item utilizando o operador de formatação."
      ]
    },
    {
      "cell_type": "code",
      "execution_count": null,
      "metadata": {
        "id": "i73z1C7v21lQ",
        "colab": {
          "base_uri": "https://localhost:8080/"
        },
        "outputId": "98e39bdf-f968-4ac7-a889-067351b1088d"
      },
      "outputs": [
        {
          "output_type": "stream",
          "name": "stdout",
          "text": [
            "\n",
            "País: Filipinas, \n",
            "Altura Média: 151.80 metros\n",
            "\n",
            "País: Estados Unidos, \n",
            "Altura Média: 158.00 metros\n",
            "\n",
            "País: Estônia, \n",
            "Altura Média: 168.23 metros\n",
            "\n",
            "País: Cuba, \n",
            "Altura Média: 155.00 metros\n",
            "\n",
            "País: China, \n",
            "Altura Média: 161.20 metros\n",
            "\n",
            "País: Colômbia, \n",
            "Altura Média: 159.40 metros\n",
            "\n",
            "País: Chile, \n",
            "Altura Média: 157.20 metros\n",
            "\n",
            "País: Canadá, \n",
            "Altura Média: 161.00 metros\n",
            "\n",
            "País: Camarões, \n",
            "Altura Média: 161.30 metros\n",
            "\n",
            "País: Brasil, \n",
            "Altura Média: 158.00 metros\n"
          ]
        }
      ],
      "source": [
        "for pais, altura in dic.items():\n",
        "  print(f\"\\nPaís: {pais}, \\nAltura Média: {altura:.2f} metros\")"
      ]
    },
    {
      "cell_type": "markdown",
      "metadata": {
        "id": "vqFrd5-k3eT2"
      },
      "source": [
        "\n",
        "\n",
        "---\n",
        "\n"
      ]
    },
    {
      "cell_type": "markdown",
      "metadata": {
        "id": "pbCHytxK3o8C"
      },
      "source": [
        "# Funções"
      ]
    },
    {
      "cell_type": "markdown",
      "metadata": {
        "id": "wKjiOZuA3fHP"
      },
      "source": [
        "## Questão 1\n",
        "\n",
        "Faça uma função que retorne o reverso de um número inteiro informado. Por exemplo: 127 -> 721."
      ]
    },
    {
      "cell_type": "code",
      "execution_count": null,
      "metadata": {
        "colab": {
          "base_uri": "https://localhost:8080/"
        },
        "id": "5JV5vq3j432o",
        "outputId": "97295278-69de-4bc4-b28e-3ca393cb4ecd"
      },
      "outputs": [
        {
          "output_type": "stream",
          "name": "stdout",
          "text": [
            "Informe um número inteiro: 7\n",
            "O reverso de 7 é 7\n"
          ]
        }
      ],
      "source": [
        "# prompt: Faça uma função que retorne o reverso de um número inteiro informado. Por exemplo: 127 -> 721.\n",
        "\n",
        "numero = int(input('Informe um número inteiro: '))\n",
        "\n",
        "def reverso_numero(numero):\n",
        "\n",
        "  numero_str = str(numero)\n",
        "  reverso_str = numero_str[::-1]\n",
        "  reverso_int = int(reverso_str)\n",
        "  return reverso_int\n",
        "\n",
        "reverso = reverso_numero(numero)\n",
        "print(f\"O reverso de {numero} é {reverso}\")"
      ]
    },
    {
      "cell_type": "markdown",
      "metadata": {
        "id": "BxWqmYoA6dbG"
      },
      "source": [
        "\n",
        "\n",
        "---\n",
        "\n"
      ]
    },
    {
      "cell_type": "markdown",
      "metadata": {
        "id": "7arvn2dw6eLX"
      },
      "source": [
        "## Questão 2\n",
        " Faça uma função para converter, que dado um valor numérico de temperatura e um valor de caractere para a escala (Celsius ou Farenheit) converta o número para a escala desejada e retorna o valor."
      ]
    },
    {
      "cell_type": "code",
      "execution_count": null,
      "metadata": {
        "id": "rsEFTbmt6qKl"
      },
      "outputs": [],
      "source": [
        "escala = str(input('Digite em C para transformar em Celsius ou F para transformar em Farenheit: '))\n",
        "\n",
        "valor_temperatura = float(input('Digite o valor da temperatura: '))\n",
        "\n",
        "def converter_temperatura(valor_temperatura, escala):\n",
        "    if escala.upper() == \"C\":\n",
        "        # Converter de Fahrenheit para Celsius\n",
        "        return (valor_temperatura - 32) * 5 / 9\n",
        "\n",
        "    elif escala.upper() == \"F\":\n",
        "        # Converter de Celsius para Fahrenheit\n",
        "        return (valor_temperatura * 9 / 5) + 32\n",
        "\n",
        "    else:\n",
        "        raise ValueError(\"Escala inválida. Use 'C' para Celsius ou 'F' para Fahrenheit.\")\n",
        "\n",
        "temperatura_convertida = converter_temperatura(valor_temperatura, escala)\n",
        "print(f\"Temperatura convertida: {temperatura_convertida:.2f}°{escala}\")\n",
        "\n",
        "\n"
      ]
    },
    {
      "cell_type": "markdown",
      "metadata": {
        "id": "Otw6CWRJ-xJC"
      },
      "source": [
        "\n",
        "\n",
        "---\n",
        "\n"
      ]
    },
    {
      "cell_type": "markdown",
      "metadata": {
        "id": "R_U0FBsa-yCS"
      },
      "source": [
        "## Questão 3\n",
        "\n",
        "Faça um programa que converta da notação de 24 horas para a notação de 12 horas. Por exemplo, o programa deve converter 14:25 em 2:25 P.M. A entrada é dada em dois inteiros."
      ]
    },
    {
      "cell_type": "code",
      "execution_count": null,
      "metadata": {
        "id": "oi8AsFbe-72h"
      },
      "outputs": [],
      "source": [
        "hora_24 = int(input('Digite a hora em 24 horas: '))\n",
        "minuto = int(input('Digite o minuto: '))\n",
        "def converter_hora(hora_24, minuto):\n",
        "\n",
        "  if hora_24 == 0:\n",
        "    hora_12 = 12\n",
        "    periodo = \"A.M.\"\n",
        "  elif hora_24 < 12:\n",
        "    hora_12 = hora_24\n",
        "    periodo = \"A.M.\"\n",
        "  elif hora_24 == 12:\n",
        "    hora_12 = 12\n",
        "    periodo = \"P.M.\"\n",
        "  else:\n",
        "    hora_12 = hora_24 - 12\n",
        "    periodo = \"P.M.\"\n",
        "\n",
        "  return f\"{hora_12}:{minuto:02d} {periodo}\"\n",
        "\n",
        "hora_convertida = converter_hora(hora_24, minuto)\n",
        "print(f\"A hora convertida é: {hora_convertida}\")\n"
      ]
    },
    {
      "cell_type": "markdown",
      "metadata": {
        "id": "zAj-ah7INlDX"
      },
      "source": [
        "\n",
        "\n",
        "---\n",
        "\n"
      ]
    },
    {
      "cell_type": "markdown",
      "metadata": {
        "id": "kmUFBsJvNl-f"
      },
      "source": [
        "# Numpy"
      ]
    },
    {
      "cell_type": "markdown",
      "metadata": {
        "id": "593utQcfNpVZ"
      },
      "source": [
        "## Questão 1\n",
        "\n",
        "Escreva código para criar uma matriz 4 x 10, com números simulados de uma distribuição normal com média 10 e variância 5, e substitua todos os elementos da primeira coluna maiores que 12 por 0."
      ]
    },
    {
      "cell_type": "code",
      "execution_count": null,
      "metadata": {
        "id": "5jo2Zo5NNsTQ"
      },
      "outputs": [],
      "source": [
        "import numpy as np\n",
        "\n",
        "\n",
        "media = 10\n",
        "variancia = 5\n",
        "\n",
        "\n",
        "matriz = np.random.normal(media, np.sqrt(variancia), size = (4, 10))\n",
        "print(\"Matriz original:\")\n",
        "print(matriz)\n",
        "\n",
        "\n",
        "# Substituindo todos os elementos da primeira coluna maiores que 12 por 0\n",
        "matriz[matriz[:, 0] > 12, 0] = 0\n",
        "matriz\n",
        "print(\"\\nMatriz modificada:\")\n",
        "print(matriz)"
      ]
    },
    {
      "cell_type": "markdown",
      "metadata": {
        "id": "05hyPd69NxbJ"
      },
      "source": [
        "## Questão 2\n",
        "\n",
        "Crie uma matriz 3x3 com 3 alturas de 3 países e calcule o peso ideal (fórmula acima) para multiplicar e somar aos elementos da matriz."
      ]
    },
    {
      "cell_type": "code",
      "execution_count": null,
      "metadata": {
        "id": "q0RNQFMkN8O_"
      },
      "outputs": [],
      "source": [
        "import numpy as np\n",
        "\n",
        "# Criando uma matriz 3x3\n",
        "matriz = np.array([[1.856, 1.680, 1.660], [1.763, 1.661, 1.703], [1.743, 1.704, 1.682]])\n",
        "matriz\n",
        "\n",
        "# Calculando o peso ideal\n",
        "# Fórmula: (72.7*altura) - 58\n",
        "peso_ideal = (72.7 * matriz) - 58\n",
        "peso_ideal\n",
        "\n",
        "# Multiplicando elemntos da matriz\n",
        "matriz_final = matriz * peso_ideal\n",
        "print(matriz_final)\n",
        "matriz_final\n",
        "\n",
        "# Somando elementos da matriz\n",
        "matriz_final.sum()"
      ]
    },
    {
      "cell_type": "markdown",
      "metadata": {
        "id": "LvxzZZyTN1w3"
      },
      "source": [
        "## Questão 3\n",
        "\n",
        "Faça uma função que recebe dois parâmetros, uma matriz numpy e uma constante, e utiliza estruturas de repetição para multiplicar cada elemento da matriz e retorna a matriz multiplicada."
      ]
    },
    {
      "cell_type": "code",
      "execution_count": null,
      "metadata": {
        "id": "3TOe-FqxN7bA"
      },
      "outputs": [],
      "source": [
        "import numpy as np\n",
        "\n",
        "matriz = np.array([[1, 2, 3], [4, 5, 6], [7, 8, 9]])\n",
        "matriz\n",
        "\n",
        "constante = 2\n",
        "\n",
        "def multiplicar_matriz_por_constante(matriz, constante):\n",
        "\n",
        "  matriz_multiplicada = np.zeros_like(matriz)  # Inicializa uma matriz com zeros do mesmo tamanho da matriz de entrada\n",
        "  for i in range(matriz.shape[0]):\n",
        "    for j in range(matriz.shape[1]):\n",
        "      matriz_multiplicada[i, j] = matriz[i, j] * constante\n",
        "\n",
        "  return matriz_multiplicada\n",
        "\n",
        "\n",
        "# Chamando a função para multiplicar a matriz por uma constante\n",
        "matriz_resultante = multiplicar_matriz_por_constante(matriz, constante)\n",
        "print(matriz_resultante)"
      ]
    },
    {
      "cell_type": "markdown",
      "metadata": {
        "id": "bRbZihill3sh"
      },
      "source": [
        "\n",
        "\n",
        "---\n",
        "\n"
      ]
    },
    {
      "cell_type": "markdown",
      "metadata": {
        "id": "BCORzCRkl4nj"
      },
      "source": [
        "# Pandas"
      ]
    },
    {
      "cell_type": "markdown",
      "metadata": {
        "id": "k59kGD-bmsZ5"
      },
      "source": [
        "Utilizando o conjunto de dados\n",
        "https://drive.google.com/open?id=1u1SEDTja9QC7MAj_VlQcxNtAhQfs-5YR\n"
      ]
    },
    {
      "cell_type": "markdown",
      "metadata": {
        "id": "OWR5zqe9mC2J"
      },
      "source": [
        "## Questão 1\n",
        "\n",
        "Faça uma função, que dado um dataframe com os dados acima. imprime a média e o desvio padrão das variáveis 'season' e 'holiday'.   "
      ]
    },
    {
      "cell_type": "code",
      "execution_count": 48,
      "metadata": {
        "id": "_n6tLR_wmqIK",
        "colab": {
          "base_uri": "https://localhost:8080/"
        },
        "outputId": "5515d32a-c6fd-46a9-88df-ad63d814b66c"
      },
      "outputs": [
        {
          "output_type": "stream",
          "name": "stdout",
          "text": [
            "Média de 'season': 2.51\n",
            "Desvio padrão de 'season': 1.12\n",
            "Média de 'holiday': 0.03\n",
            "Desvio padrão de 'holiday': 0.17\n"
          ]
        }
      ],
      "source": [
        "import pandas as pd\n",
        "\n",
        "url = 'https://drive.google.com/uc?id=1u1SEDTja9QC7MAj_VlQcxNtAhQfs-5YR'\n",
        "df = pd.read_csv(url)\n",
        "df.head()\n",
        "\n",
        "\n",
        "def calcular_media_desvio_padrao(df):\n",
        "\n",
        "  media_season = df['season'].mean()\n",
        "  desvio_padrao_season = df['season'].std()\n",
        "\n",
        "  media_holiday = df['holiday'].mean()\n",
        "  desvio_padrao_holiday = df['holiday'].std()\n",
        "\n",
        "  print(f\"Média de 'season': {media_season:.2f}\")\n",
        "  print(f\"Desvio padrão de 'season': {desvio_padrao_season:.2f}\")\n",
        "  print(f\"Média de 'holiday': {media_holiday:.2f}\")\n",
        "  print(f\"Desvio padrão de 'holiday': {desvio_padrao_holiday:.2f}\")\n",
        "\n",
        "calcular_media_desvio_padrao(df)\n"
      ]
    },
    {
      "cell_type": "markdown",
      "metadata": {
        "id": "dJgYKa6mmKky"
      },
      "source": [
        "## Questão 2\n",
        "\n",
        "\n",
        "Crie uma nova coluna no dataframe, com o nome 'month' com o mês correspondente de cada linha da coluna 'datetime' e escreva uma função que dado um dataframe, e um valor numérico entre 1 e 12, retorna um sub-dataframe para o mês requerido."
      ]
    },
    {
      "cell_type": "code",
      "source": [
        "import pandas as pd\n",
        "\n",
        "url = 'https://drive.google.com/uc?id=1u1SEDTja9QC7MAj_VlQcxNtAhQfs-5YR'\n",
        "df = pd.read_csv(url)\n",
        "df.head()"
      ],
      "metadata": {
        "id": "T5MzoaHlLJDz"
      },
      "execution_count": null,
      "outputs": []
    },
    {
      "cell_type": "code",
      "execution_count": null,
      "metadata": {
        "id": "gc-vdCkT2AE-"
      },
      "outputs": [],
      "source": [
        "mes = int(input('Digite um valor entre 1 e 12: '))\n",
        "\n",
        "# Converte a coluna 'datetime' para o tipo datetime, se necessário\n",
        "df['datetime'] = pd.to_datetime(df['datetime'])\n",
        "\n",
        "# Cria a nova coluna 'month' extraindo o mês de cada linha\n",
        "df['month'] = df['datetime'].dt.month\n",
        "\n",
        "# Função para filtrar o DataFrame por mês\n",
        "def filtrar_por_mes(dataframe, mes):\n",
        "\n",
        "    if 1 <= mes <= 12:\n",
        "        return dataframe[dataframe['month'] == mes]\n",
        "    else:\n",
        "        raise ValueError(\"O valor de mês deve estar entre 1 e 12.\")\n",
        "\n",
        "# Exemplo de uso da função para filtrar o DataFrame para o mês de março (3)\n",
        "df_filtrado = filtrar_por_mes(df, mes)\n",
        "print(df_filtrado)\n"
      ]
    },
    {
      "cell_type": "markdown",
      "metadata": {
        "id": "5oYwxB6WmRU5"
      },
      "source": [
        "## Questão 3\n",
        "\n",
        "\n",
        "Faça um histograma da variável 'temp' e um boxplot único com a variável 'temp' em cada 'month' (no eixo x)."
      ]
    },
    {
      "cell_type": "code",
      "source": [
        "import pandas as pd\n",
        "\n",
        "url = 'https://drive.google.com/uc?id=1u1SEDTja9QC7MAj_VlQcxNtAhQfs-5YR'\n",
        "df = pd.read_csv(url)\n",
        "df.head()"
      ],
      "metadata": {
        "id": "Rfx8GbkhTTAP"
      },
      "execution_count": null,
      "outputs": []
    },
    {
      "cell_type": "code",
      "execution_count": null,
      "metadata": {
        "id": "I82NuBVD2ckF"
      },
      "outputs": [],
      "source": [
        "import matplotlib.pyplot as plt\n",
        "import seaborn as sns\n",
        "import pandas as pd\n",
        "\n",
        "# Criando a coluna 'month' com o mês correspondente\n",
        "df['datetime'] = pd.to_datetime(df['datetime'])\n",
        "df['month'] = df['datetime'].dt.month\n",
        "\n",
        "# Histograma da variável 'temp'\n",
        "plt.figure(figsize=(8, 6))\n",
        "plt.hist(df['temp'], bins=20, color='skyblue', edgecolor='black')\n",
        "plt.xlabel('Temperatura')\n",
        "plt.ylabel('Frequência')\n",
        "plt.title('Histograma da Temperatura')\n",
        "plt.show()\n",
        "\n",
        "# Boxplot da variável 'temp' em cada 'month'\n",
        "plt.figure(figsize=(12, 6))\n",
        "sns.boxplot(x='month', y='temp', data=df)\n",
        "plt.xlabel('Mês')\n",
        "plt.ylabel('Temperatura')\n",
        "plt.title('Boxplot da Temperatura por Mês')\n",
        "plt.show()"
      ]
    },
    {
      "cell_type": "markdown",
      "metadata": {
        "id": "mJdS_eun2yCe"
      },
      "source": [
        "\n",
        "\n",
        "---\n",
        "\n"
      ]
    },
    {
      "cell_type": "markdown",
      "metadata": {
        "id": "MB_r6Rm82y7p"
      },
      "source": [
        "# Regressão"
      ]
    },
    {
      "cell_type": "markdown",
      "metadata": {
        "id": "YyNGdmOm22CV"
      },
      "source": [
        "## Questão 1\n",
        "\n",
        "Incluir o conjunto de dados na entrega do notebook.\n",
        "\n",
        "Em uma célula do mesmo notebook crie um texto com markdown, incluindo formatação com títulos, negrito, itálico e inclusão de figuras para explicar:\n",
        "\n",
        "Explique simplificadamente o que é o modelo de regressão e quando estes modelos podem ser utilizados.\n",
        "Apresente um pequeno exemplo numérico utilizando o que foi aprendido no curso, utilizando um conjunto de dados que não foi visto no curso (pode ser de qualquer lugar na internet) e imprimindo os seguintes resultados:\n",
        "R2\n",
        "Coeficientes da regressão\n",
        "\n",
        "E fazendo um gráfico com a variável resposta (eixo y) uma das variáveis preditoras (eixo x) e a reta da regressão.\n",
        "\n",
        "*Os conjuntos de dados devem ser diferentes entre os alunos\n"
      ]
    },
    {
      "cell_type": "markdown",
      "metadata": {
        "id": "NHJ9uSbYqrj_"
      },
      "source": [
        "### Modelo de Regressão Linear\n",
        "\n",
        "**O que é um modelo de regressão linear?**\n",
        "\n",
        "Um modelo de regressão linear é uma técnica estatística utilizada para prever o valor de uma variável dependente (também chamada de variável resposta) com base no valor de uma ou mais variáveis independentes (também chamadas de variáveis preditoras). Este modelo assume uma relação linear entre as variáveis, ou seja, ele tenta ajustar uma linha reta que melhor explique a relação entre as variáveis.\n",
        "\n",
        "A equação básica de um modelo de regressão linear simples (com uma variável preditora) é:\n",
        "\n",
        "`y = ax + b`\n",
        "\n",
        "Onde:\n",
        "- `y` é a variável resposta.\n",
        "- `b` é o coeficiente de intercepção (onde a linha cruza o eixo y).\n",
        "- `a` é o coeficiente angular (a inclinação da linha).\n",
        "- `x`  é a variável preditora.\n",
        "\n",
        "Modelos de regressão podem ser usados para:\n",
        "- **Previsão**: Quando se deseja prever valores futuros.\n",
        "- **Exploração**: Para entender as relações entre variáveis.\n",
        "- **Tomada de decisão**: Em processos de otimização.\n",
        "\n",
        "\n",
        "\n",
        "\n",
        "\n",
        "> Mostra o quanto os dados se ajustam bem ao modelo de regressão, pois determina a proporção da variância na variável dependente\n",
        "\n",
        "\n",
        "> Um valor mais próximo de 1 indica um bom ajuste\n",
        "\n",
        "\n"
      ]
    },
    {
      "cell_type": "code",
      "source": [
        "from google.colab import files\n",
        "\n",
        "# Isso abrirá uma janela de upload de arquivo no seu navegador\n",
        "uploaded = files.upload()"
      ],
      "metadata": {
        "colab": {
          "base_uri": "https://localhost:8080/",
          "height": 73
        },
        "id": "3jC97EsAGHf1",
        "outputId": "e55377cc-dd9e-4d00-e4e7-2c028d0bf33f"
      },
      "execution_count": 2,
      "outputs": [
        {
          "output_type": "display_data",
          "data": {
            "text/plain": [
              "<IPython.core.display.HTML object>"
            ],
            "text/html": [
              "\n",
              "     <input type=\"file\" id=\"files-29c1f8a2-917d-41cd-9741-0f07c48aec8e\" name=\"files[]\" multiple disabled\n",
              "        style=\"border:none\" />\n",
              "     <output id=\"result-29c1f8a2-917d-41cd-9741-0f07c48aec8e\">\n",
              "      Upload widget is only available when the cell has been executed in the\n",
              "      current browser session. Please rerun this cell to enable.\n",
              "      </output>\n",
              "      <script>// Copyright 2017 Google LLC\n",
              "//\n",
              "// Licensed under the Apache License, Version 2.0 (the \"License\");\n",
              "// you may not use this file except in compliance with the License.\n",
              "// You may obtain a copy of the License at\n",
              "//\n",
              "//      http://www.apache.org/licenses/LICENSE-2.0\n",
              "//\n",
              "// Unless required by applicable law or agreed to in writing, software\n",
              "// distributed under the License is distributed on an \"AS IS\" BASIS,\n",
              "// WITHOUT WARRANTIES OR CONDITIONS OF ANY KIND, either express or implied.\n",
              "// See the License for the specific language governing permissions and\n",
              "// limitations under the License.\n",
              "\n",
              "/**\n",
              " * @fileoverview Helpers for google.colab Python module.\n",
              " */\n",
              "(function(scope) {\n",
              "function span(text, styleAttributes = {}) {\n",
              "  const element = document.createElement('span');\n",
              "  element.textContent = text;\n",
              "  for (const key of Object.keys(styleAttributes)) {\n",
              "    element.style[key] = styleAttributes[key];\n",
              "  }\n",
              "  return element;\n",
              "}\n",
              "\n",
              "// Max number of bytes which will be uploaded at a time.\n",
              "const MAX_PAYLOAD_SIZE = 100 * 1024;\n",
              "\n",
              "function _uploadFiles(inputId, outputId) {\n",
              "  const steps = uploadFilesStep(inputId, outputId);\n",
              "  const outputElement = document.getElementById(outputId);\n",
              "  // Cache steps on the outputElement to make it available for the next call\n",
              "  // to uploadFilesContinue from Python.\n",
              "  outputElement.steps = steps;\n",
              "\n",
              "  return _uploadFilesContinue(outputId);\n",
              "}\n",
              "\n",
              "// This is roughly an async generator (not supported in the browser yet),\n",
              "// where there are multiple asynchronous steps and the Python side is going\n",
              "// to poll for completion of each step.\n",
              "// This uses a Promise to block the python side on completion of each step,\n",
              "// then passes the result of the previous step as the input to the next step.\n",
              "function _uploadFilesContinue(outputId) {\n",
              "  const outputElement = document.getElementById(outputId);\n",
              "  const steps = outputElement.steps;\n",
              "\n",
              "  const next = steps.next(outputElement.lastPromiseValue);\n",
              "  return Promise.resolve(next.value.promise).then((value) => {\n",
              "    // Cache the last promise value to make it available to the next\n",
              "    // step of the generator.\n",
              "    outputElement.lastPromiseValue = value;\n",
              "    return next.value.response;\n",
              "  });\n",
              "}\n",
              "\n",
              "/**\n",
              " * Generator function which is called between each async step of the upload\n",
              " * process.\n",
              " * @param {string} inputId Element ID of the input file picker element.\n",
              " * @param {string} outputId Element ID of the output display.\n",
              " * @return {!Iterable<!Object>} Iterable of next steps.\n",
              " */\n",
              "function* uploadFilesStep(inputId, outputId) {\n",
              "  const inputElement = document.getElementById(inputId);\n",
              "  inputElement.disabled = false;\n",
              "\n",
              "  const outputElement = document.getElementById(outputId);\n",
              "  outputElement.innerHTML = '';\n",
              "\n",
              "  const pickedPromise = new Promise((resolve) => {\n",
              "    inputElement.addEventListener('change', (e) => {\n",
              "      resolve(e.target.files);\n",
              "    });\n",
              "  });\n",
              "\n",
              "  const cancel = document.createElement('button');\n",
              "  inputElement.parentElement.appendChild(cancel);\n",
              "  cancel.textContent = 'Cancel upload';\n",
              "  const cancelPromise = new Promise((resolve) => {\n",
              "    cancel.onclick = () => {\n",
              "      resolve(null);\n",
              "    };\n",
              "  });\n",
              "\n",
              "  // Wait for the user to pick the files.\n",
              "  const files = yield {\n",
              "    promise: Promise.race([pickedPromise, cancelPromise]),\n",
              "    response: {\n",
              "      action: 'starting',\n",
              "    }\n",
              "  };\n",
              "\n",
              "  cancel.remove();\n",
              "\n",
              "  // Disable the input element since further picks are not allowed.\n",
              "  inputElement.disabled = true;\n",
              "\n",
              "  if (!files) {\n",
              "    return {\n",
              "      response: {\n",
              "        action: 'complete',\n",
              "      }\n",
              "    };\n",
              "  }\n",
              "\n",
              "  for (const file of files) {\n",
              "    const li = document.createElement('li');\n",
              "    li.append(span(file.name, {fontWeight: 'bold'}));\n",
              "    li.append(span(\n",
              "        `(${file.type || 'n/a'}) - ${file.size} bytes, ` +\n",
              "        `last modified: ${\n",
              "            file.lastModifiedDate ? file.lastModifiedDate.toLocaleDateString() :\n",
              "                                    'n/a'} - `));\n",
              "    const percent = span('0% done');\n",
              "    li.appendChild(percent);\n",
              "\n",
              "    outputElement.appendChild(li);\n",
              "\n",
              "    const fileDataPromise = new Promise((resolve) => {\n",
              "      const reader = new FileReader();\n",
              "      reader.onload = (e) => {\n",
              "        resolve(e.target.result);\n",
              "      };\n",
              "      reader.readAsArrayBuffer(file);\n",
              "    });\n",
              "    // Wait for the data to be ready.\n",
              "    let fileData = yield {\n",
              "      promise: fileDataPromise,\n",
              "      response: {\n",
              "        action: 'continue',\n",
              "      }\n",
              "    };\n",
              "\n",
              "    // Use a chunked sending to avoid message size limits. See b/62115660.\n",
              "    let position = 0;\n",
              "    do {\n",
              "      const length = Math.min(fileData.byteLength - position, MAX_PAYLOAD_SIZE);\n",
              "      const chunk = new Uint8Array(fileData, position, length);\n",
              "      position += length;\n",
              "\n",
              "      const base64 = btoa(String.fromCharCode.apply(null, chunk));\n",
              "      yield {\n",
              "        response: {\n",
              "          action: 'append',\n",
              "          file: file.name,\n",
              "          data: base64,\n",
              "        },\n",
              "      };\n",
              "\n",
              "      let percentDone = fileData.byteLength === 0 ?\n",
              "          100 :\n",
              "          Math.round((position / fileData.byteLength) * 100);\n",
              "      percent.textContent = `${percentDone}% done`;\n",
              "\n",
              "    } while (position < fileData.byteLength);\n",
              "  }\n",
              "\n",
              "  // All done.\n",
              "  yield {\n",
              "    response: {\n",
              "      action: 'complete',\n",
              "    }\n",
              "  };\n",
              "}\n",
              "\n",
              "scope.google = scope.google || {};\n",
              "scope.google.colab = scope.google.colab || {};\n",
              "scope.google.colab._files = {\n",
              "  _uploadFiles,\n",
              "  _uploadFilesContinue,\n",
              "};\n",
              "})(self);\n",
              "</script> "
            ]
          },
          "metadata": {}
        },
        {
          "output_type": "stream",
          "name": "stdout",
          "text": [
            "Saving House_Rent_Dataset.csv to House_Rent_Dataset.csv\n"
          ]
        }
      ]
    },
    {
      "cell_type": "code",
      "source": [
        "\n",
        "# Carregando os dados\n",
        "dados = pd.read_csv('House_Rent_Dataset.csv')\n",
        "\n",
        "dados.head()\n"
      ],
      "metadata": {
        "colab": {
          "base_uri": "https://localhost:8080/",
          "height": 206
        },
        "id": "7k8913key_Ew",
        "outputId": "43da55e6-2fe6-4ce1-a9b2-78d2df2722e6"
      },
      "execution_count": 4,
      "outputs": [
        {
          "output_type": "execute_result",
          "data": {
            "text/plain": [
              "    Posted On  BHK   Rent  Size            Floor    Area Type  \\\n",
              "0  2022-05-18    2  10000  1100  Ground out of 2   Super Area   \n",
              "1  2022-05-13    2  20000   800       1 out of 3   Super Area   \n",
              "2  2022-05-16    2  17000  1000       1 out of 3   Super Area   \n",
              "3  2022-07-04    2  10000   800       1 out of 2   Super Area   \n",
              "4  2022-05-09    2   7500   850       1 out of 2  Carpet Area   \n",
              "\n",
              "              Area Locality     City Furnishing Status  Tenant Preferred  \\\n",
              "0                    Bandel  Kolkata       Unfurnished  Bachelors/Family   \n",
              "1  Phool Bagan, Kankurgachi  Kolkata    Semi-Furnished  Bachelors/Family   \n",
              "2   Salt Lake City Sector 2  Kolkata    Semi-Furnished  Bachelors/Family   \n",
              "3               Dumdum Park  Kolkata       Unfurnished  Bachelors/Family   \n",
              "4             South Dum Dum  Kolkata       Unfurnished         Bachelors   \n",
              "\n",
              "   Bathroom Point of Contact  \n",
              "0         2    Contact Owner  \n",
              "1         1    Contact Owner  \n",
              "2         1    Contact Owner  \n",
              "3         1    Contact Owner  \n",
              "4         1    Contact Owner  "
            ],
            "text/html": [
              "\n",
              "  <div id=\"df-ad467d7d-3efc-4b90-8ac5-31287e71396d\" class=\"colab-df-container\">\n",
              "    <div>\n",
              "<style scoped>\n",
              "    .dataframe tbody tr th:only-of-type {\n",
              "        vertical-align: middle;\n",
              "    }\n",
              "\n",
              "    .dataframe tbody tr th {\n",
              "        vertical-align: top;\n",
              "    }\n",
              "\n",
              "    .dataframe thead th {\n",
              "        text-align: right;\n",
              "    }\n",
              "</style>\n",
              "<table border=\"1\" class=\"dataframe\">\n",
              "  <thead>\n",
              "    <tr style=\"text-align: right;\">\n",
              "      <th></th>\n",
              "      <th>Posted On</th>\n",
              "      <th>BHK</th>\n",
              "      <th>Rent</th>\n",
              "      <th>Size</th>\n",
              "      <th>Floor</th>\n",
              "      <th>Area Type</th>\n",
              "      <th>Area Locality</th>\n",
              "      <th>City</th>\n",
              "      <th>Furnishing Status</th>\n",
              "      <th>Tenant Preferred</th>\n",
              "      <th>Bathroom</th>\n",
              "      <th>Point of Contact</th>\n",
              "    </tr>\n",
              "  </thead>\n",
              "  <tbody>\n",
              "    <tr>\n",
              "      <th>0</th>\n",
              "      <td>2022-05-18</td>\n",
              "      <td>2</td>\n",
              "      <td>10000</td>\n",
              "      <td>1100</td>\n",
              "      <td>Ground out of 2</td>\n",
              "      <td>Super Area</td>\n",
              "      <td>Bandel</td>\n",
              "      <td>Kolkata</td>\n",
              "      <td>Unfurnished</td>\n",
              "      <td>Bachelors/Family</td>\n",
              "      <td>2</td>\n",
              "      <td>Contact Owner</td>\n",
              "    </tr>\n",
              "    <tr>\n",
              "      <th>1</th>\n",
              "      <td>2022-05-13</td>\n",
              "      <td>2</td>\n",
              "      <td>20000</td>\n",
              "      <td>800</td>\n",
              "      <td>1 out of 3</td>\n",
              "      <td>Super Area</td>\n",
              "      <td>Phool Bagan, Kankurgachi</td>\n",
              "      <td>Kolkata</td>\n",
              "      <td>Semi-Furnished</td>\n",
              "      <td>Bachelors/Family</td>\n",
              "      <td>1</td>\n",
              "      <td>Contact Owner</td>\n",
              "    </tr>\n",
              "    <tr>\n",
              "      <th>2</th>\n",
              "      <td>2022-05-16</td>\n",
              "      <td>2</td>\n",
              "      <td>17000</td>\n",
              "      <td>1000</td>\n",
              "      <td>1 out of 3</td>\n",
              "      <td>Super Area</td>\n",
              "      <td>Salt Lake City Sector 2</td>\n",
              "      <td>Kolkata</td>\n",
              "      <td>Semi-Furnished</td>\n",
              "      <td>Bachelors/Family</td>\n",
              "      <td>1</td>\n",
              "      <td>Contact Owner</td>\n",
              "    </tr>\n",
              "    <tr>\n",
              "      <th>3</th>\n",
              "      <td>2022-07-04</td>\n",
              "      <td>2</td>\n",
              "      <td>10000</td>\n",
              "      <td>800</td>\n",
              "      <td>1 out of 2</td>\n",
              "      <td>Super Area</td>\n",
              "      <td>Dumdum Park</td>\n",
              "      <td>Kolkata</td>\n",
              "      <td>Unfurnished</td>\n",
              "      <td>Bachelors/Family</td>\n",
              "      <td>1</td>\n",
              "      <td>Contact Owner</td>\n",
              "    </tr>\n",
              "    <tr>\n",
              "      <th>4</th>\n",
              "      <td>2022-05-09</td>\n",
              "      <td>2</td>\n",
              "      <td>7500</td>\n",
              "      <td>850</td>\n",
              "      <td>1 out of 2</td>\n",
              "      <td>Carpet Area</td>\n",
              "      <td>South Dum Dum</td>\n",
              "      <td>Kolkata</td>\n",
              "      <td>Unfurnished</td>\n",
              "      <td>Bachelors</td>\n",
              "      <td>1</td>\n",
              "      <td>Contact Owner</td>\n",
              "    </tr>\n",
              "  </tbody>\n",
              "</table>\n",
              "</div>\n",
              "    <div class=\"colab-df-buttons\">\n",
              "\n",
              "  <div class=\"colab-df-container\">\n",
              "    <button class=\"colab-df-convert\" onclick=\"convertToInteractive('df-ad467d7d-3efc-4b90-8ac5-31287e71396d')\"\n",
              "            title=\"Convert this dataframe to an interactive table.\"\n",
              "            style=\"display:none;\">\n",
              "\n",
              "  <svg xmlns=\"http://www.w3.org/2000/svg\" height=\"24px\" viewBox=\"0 -960 960 960\">\n",
              "    <path d=\"M120-120v-720h720v720H120Zm60-500h600v-160H180v160Zm220 220h160v-160H400v160Zm0 220h160v-160H400v160ZM180-400h160v-160H180v160Zm440 0h160v-160H620v160ZM180-180h160v-160H180v160Zm440 0h160v-160H620v160Z\"/>\n",
              "  </svg>\n",
              "    </button>\n",
              "\n",
              "  <style>\n",
              "    .colab-df-container {\n",
              "      display:flex;\n",
              "      gap: 12px;\n",
              "    }\n",
              "\n",
              "    .colab-df-convert {\n",
              "      background-color: #E8F0FE;\n",
              "      border: none;\n",
              "      border-radius: 50%;\n",
              "      cursor: pointer;\n",
              "      display: none;\n",
              "      fill: #1967D2;\n",
              "      height: 32px;\n",
              "      padding: 0 0 0 0;\n",
              "      width: 32px;\n",
              "    }\n",
              "\n",
              "    .colab-df-convert:hover {\n",
              "      background-color: #E2EBFA;\n",
              "      box-shadow: 0px 1px 2px rgba(60, 64, 67, 0.3), 0px 1px 3px 1px rgba(60, 64, 67, 0.15);\n",
              "      fill: #174EA6;\n",
              "    }\n",
              "\n",
              "    .colab-df-buttons div {\n",
              "      margin-bottom: 4px;\n",
              "    }\n",
              "\n",
              "    [theme=dark] .colab-df-convert {\n",
              "      background-color: #3B4455;\n",
              "      fill: #D2E3FC;\n",
              "    }\n",
              "\n",
              "    [theme=dark] .colab-df-convert:hover {\n",
              "      background-color: #434B5C;\n",
              "      box-shadow: 0px 1px 3px 1px rgba(0, 0, 0, 0.15);\n",
              "      filter: drop-shadow(0px 1px 2px rgba(0, 0, 0, 0.3));\n",
              "      fill: #FFFFFF;\n",
              "    }\n",
              "  </style>\n",
              "\n",
              "    <script>\n",
              "      const buttonEl =\n",
              "        document.querySelector('#df-ad467d7d-3efc-4b90-8ac5-31287e71396d button.colab-df-convert');\n",
              "      buttonEl.style.display =\n",
              "        google.colab.kernel.accessAllowed ? 'block' : 'none';\n",
              "\n",
              "      async function convertToInteractive(key) {\n",
              "        const element = document.querySelector('#df-ad467d7d-3efc-4b90-8ac5-31287e71396d');\n",
              "        const dataTable =\n",
              "          await google.colab.kernel.invokeFunction('convertToInteractive',\n",
              "                                                    [key], {});\n",
              "        if (!dataTable) return;\n",
              "\n",
              "        const docLinkHtml = 'Like what you see? Visit the ' +\n",
              "          '<a target=\"_blank\" href=https://colab.research.google.com/notebooks/data_table.ipynb>data table notebook</a>'\n",
              "          + ' to learn more about interactive tables.';\n",
              "        element.innerHTML = '';\n",
              "        dataTable['output_type'] = 'display_data';\n",
              "        await google.colab.output.renderOutput(dataTable, element);\n",
              "        const docLink = document.createElement('div');\n",
              "        docLink.innerHTML = docLinkHtml;\n",
              "        element.appendChild(docLink);\n",
              "      }\n",
              "    </script>\n",
              "  </div>\n",
              "\n",
              "\n",
              "<div id=\"df-ed29d9e8-6e76-4f79-99c7-52ad8ff9288e\">\n",
              "  <button class=\"colab-df-quickchart\" onclick=\"quickchart('df-ed29d9e8-6e76-4f79-99c7-52ad8ff9288e')\"\n",
              "            title=\"Suggest charts\"\n",
              "            style=\"display:none;\">\n",
              "\n",
              "<svg xmlns=\"http://www.w3.org/2000/svg\" height=\"24px\"viewBox=\"0 0 24 24\"\n",
              "     width=\"24px\">\n",
              "    <g>\n",
              "        <path d=\"M19 3H5c-1.1 0-2 .9-2 2v14c0 1.1.9 2 2 2h14c1.1 0 2-.9 2-2V5c0-1.1-.9-2-2-2zM9 17H7v-7h2v7zm4 0h-2V7h2v10zm4 0h-2v-4h2v4z\"/>\n",
              "    </g>\n",
              "</svg>\n",
              "  </button>\n",
              "\n",
              "<style>\n",
              "  .colab-df-quickchart {\n",
              "      --bg-color: #E8F0FE;\n",
              "      --fill-color: #1967D2;\n",
              "      --hover-bg-color: #E2EBFA;\n",
              "      --hover-fill-color: #174EA6;\n",
              "      --disabled-fill-color: #AAA;\n",
              "      --disabled-bg-color: #DDD;\n",
              "  }\n",
              "\n",
              "  [theme=dark] .colab-df-quickchart {\n",
              "      --bg-color: #3B4455;\n",
              "      --fill-color: #D2E3FC;\n",
              "      --hover-bg-color: #434B5C;\n",
              "      --hover-fill-color: #FFFFFF;\n",
              "      --disabled-bg-color: #3B4455;\n",
              "      --disabled-fill-color: #666;\n",
              "  }\n",
              "\n",
              "  .colab-df-quickchart {\n",
              "    background-color: var(--bg-color);\n",
              "    border: none;\n",
              "    border-radius: 50%;\n",
              "    cursor: pointer;\n",
              "    display: none;\n",
              "    fill: var(--fill-color);\n",
              "    height: 32px;\n",
              "    padding: 0;\n",
              "    width: 32px;\n",
              "  }\n",
              "\n",
              "  .colab-df-quickchart:hover {\n",
              "    background-color: var(--hover-bg-color);\n",
              "    box-shadow: 0 1px 2px rgba(60, 64, 67, 0.3), 0 1px 3px 1px rgba(60, 64, 67, 0.15);\n",
              "    fill: var(--button-hover-fill-color);\n",
              "  }\n",
              "\n",
              "  .colab-df-quickchart-complete:disabled,\n",
              "  .colab-df-quickchart-complete:disabled:hover {\n",
              "    background-color: var(--disabled-bg-color);\n",
              "    fill: var(--disabled-fill-color);\n",
              "    box-shadow: none;\n",
              "  }\n",
              "\n",
              "  .colab-df-spinner {\n",
              "    border: 2px solid var(--fill-color);\n",
              "    border-color: transparent;\n",
              "    border-bottom-color: var(--fill-color);\n",
              "    animation:\n",
              "      spin 1s steps(1) infinite;\n",
              "  }\n",
              "\n",
              "  @keyframes spin {\n",
              "    0% {\n",
              "      border-color: transparent;\n",
              "      border-bottom-color: var(--fill-color);\n",
              "      border-left-color: var(--fill-color);\n",
              "    }\n",
              "    20% {\n",
              "      border-color: transparent;\n",
              "      border-left-color: var(--fill-color);\n",
              "      border-top-color: var(--fill-color);\n",
              "    }\n",
              "    30% {\n",
              "      border-color: transparent;\n",
              "      border-left-color: var(--fill-color);\n",
              "      border-top-color: var(--fill-color);\n",
              "      border-right-color: var(--fill-color);\n",
              "    }\n",
              "    40% {\n",
              "      border-color: transparent;\n",
              "      border-right-color: var(--fill-color);\n",
              "      border-top-color: var(--fill-color);\n",
              "    }\n",
              "    60% {\n",
              "      border-color: transparent;\n",
              "      border-right-color: var(--fill-color);\n",
              "    }\n",
              "    80% {\n",
              "      border-color: transparent;\n",
              "      border-right-color: var(--fill-color);\n",
              "      border-bottom-color: var(--fill-color);\n",
              "    }\n",
              "    90% {\n",
              "      border-color: transparent;\n",
              "      border-bottom-color: var(--fill-color);\n",
              "    }\n",
              "  }\n",
              "</style>\n",
              "\n",
              "  <script>\n",
              "    async function quickchart(key) {\n",
              "      const quickchartButtonEl =\n",
              "        document.querySelector('#' + key + ' button');\n",
              "      quickchartButtonEl.disabled = true;  // To prevent multiple clicks.\n",
              "      quickchartButtonEl.classList.add('colab-df-spinner');\n",
              "      try {\n",
              "        const charts = await google.colab.kernel.invokeFunction(\n",
              "            'suggestCharts', [key], {});\n",
              "      } catch (error) {\n",
              "        console.error('Error during call to suggestCharts:', error);\n",
              "      }\n",
              "      quickchartButtonEl.classList.remove('colab-df-spinner');\n",
              "      quickchartButtonEl.classList.add('colab-df-quickchart-complete');\n",
              "    }\n",
              "    (() => {\n",
              "      let quickchartButtonEl =\n",
              "        document.querySelector('#df-ed29d9e8-6e76-4f79-99c7-52ad8ff9288e button');\n",
              "      quickchartButtonEl.style.display =\n",
              "        google.colab.kernel.accessAllowed ? 'block' : 'none';\n",
              "    })();\n",
              "  </script>\n",
              "</div>\n",
              "\n",
              "    </div>\n",
              "  </div>\n"
            ],
            "application/vnd.google.colaboratory.intrinsic+json": {
              "type": "dataframe",
              "variable_name": "dados",
              "summary": "{\n  \"name\": \"dados\",\n  \"rows\": 4746,\n  \"fields\": [\n    {\n      \"column\": \"Posted On\",\n      \"properties\": {\n        \"dtype\": \"object\",\n        \"num_unique_values\": 81,\n        \"samples\": [\n          \"2022-05-31\",\n          \"2022-05-18\",\n          \"2022-06-22\"\n        ],\n        \"semantic_type\": \"\",\n        \"description\": \"\"\n      }\n    },\n    {\n      \"column\": \"BHK\",\n      \"properties\": {\n        \"dtype\": \"number\",\n        \"std\": 0,\n        \"min\": 1,\n        \"max\": 6,\n        \"num_unique_values\": 6,\n        \"samples\": [\n          2,\n          1,\n          5\n        ],\n        \"semantic_type\": \"\",\n        \"description\": \"\"\n      }\n    },\n    {\n      \"column\": \"Rent\",\n      \"properties\": {\n        \"dtype\": \"number\",\n        \"std\": 78106,\n        \"min\": 1200,\n        \"max\": 3500000,\n        \"num_unique_values\": 243,\n        \"samples\": [\n          12000,\n          26000,\n          9400\n        ],\n        \"semantic_type\": \"\",\n        \"description\": \"\"\n      }\n    },\n    {\n      \"column\": \"Size\",\n      \"properties\": {\n        \"dtype\": \"number\",\n        \"std\": 634,\n        \"min\": 10,\n        \"max\": 8000,\n        \"num_unique_values\": 615,\n        \"samples\": [\n          870,\n          1115,\n          95\n        ],\n        \"semantic_type\": \"\",\n        \"description\": \"\"\n      }\n    },\n    {\n      \"column\": \"Floor\",\n      \"properties\": {\n        \"dtype\": \"category\",\n        \"num_unique_values\": 480,\n        \"samples\": [\n          \"10 out of 18\",\n          \"17 out of 18\",\n          \"60 out of 71\"\n        ],\n        \"semantic_type\": \"\",\n        \"description\": \"\"\n      }\n    },\n    {\n      \"column\": \"Area Type\",\n      \"properties\": {\n        \"dtype\": \"category\",\n        \"num_unique_values\": 3,\n        \"samples\": [\n          \"Super Area\",\n          \"Carpet Area\",\n          \"Built Area\"\n        ],\n        \"semantic_type\": \"\",\n        \"description\": \"\"\n      }\n    },\n    {\n      \"column\": \"Area Locality\",\n      \"properties\": {\n        \"dtype\": \"category\",\n        \"num_unique_values\": 2235,\n        \"samples\": [\n          \"Suraram\",\n          \"Rodamestri Nagar\",\n          \"Ullal Main Road\"\n        ],\n        \"semantic_type\": \"\",\n        \"description\": \"\"\n      }\n    },\n    {\n      \"column\": \"City\",\n      \"properties\": {\n        \"dtype\": \"category\",\n        \"num_unique_values\": 6,\n        \"samples\": [\n          \"Kolkata\",\n          \"Mumbai\",\n          \"Hyderabad\"\n        ],\n        \"semantic_type\": \"\",\n        \"description\": \"\"\n      }\n    },\n    {\n      \"column\": \"Furnishing Status\",\n      \"properties\": {\n        \"dtype\": \"category\",\n        \"num_unique_values\": 3,\n        \"samples\": [\n          \"Unfurnished\",\n          \"Semi-Furnished\",\n          \"Furnished\"\n        ],\n        \"semantic_type\": \"\",\n        \"description\": \"\"\n      }\n    },\n    {\n      \"column\": \"Tenant Preferred\",\n      \"properties\": {\n        \"dtype\": \"category\",\n        \"num_unique_values\": 3,\n        \"samples\": [\n          \"Bachelors/Family\",\n          \"Bachelors\",\n          \"Family\"\n        ],\n        \"semantic_type\": \"\",\n        \"description\": \"\"\n      }\n    },\n    {\n      \"column\": \"Bathroom\",\n      \"properties\": {\n        \"dtype\": \"number\",\n        \"std\": 0,\n        \"min\": 1,\n        \"max\": 10,\n        \"num_unique_values\": 8,\n        \"samples\": [\n          1,\n          6,\n          2\n        ],\n        \"semantic_type\": \"\",\n        \"description\": \"\"\n      }\n    },\n    {\n      \"column\": \"Point of Contact\",\n      \"properties\": {\n        \"dtype\": \"category\",\n        \"num_unique_values\": 3,\n        \"samples\": [\n          \"Contact Owner\",\n          \"Contact Agent\",\n          \"Contact Builder\"\n        ],\n        \"semantic_type\": \"\",\n        \"description\": \"\"\n      }\n    }\n  ]\n}"
            }
          },
          "metadata": {},
          "execution_count": 4
        }
      ]
    },
    {
      "cell_type": "code",
      "execution_count": 7,
      "metadata": {
        "id": "s2uPLAw-qrJF",
        "colab": {
          "base_uri": "https://localhost:8080/",
          "height": 524
        },
        "outputId": "b1b2d38b-7680-4c92-8b2f-5a8595dffb76"
      },
      "outputs": [
        {
          "output_type": "stream",
          "name": "stdout",
          "text": [
            "R²: 0.194670878262316\n",
            "Intercepto: -41597.54376884006\n",
            "Coeficiente: 38960.43544768648\n"
          ]
        },
        {
          "output_type": "display_data",
          "data": {
            "text/plain": [
              "<Figure size 640x480 with 1 Axes>"
            ],
            "image/png": "[encoded data removed]"
          },
          "metadata": {}
        }
      ],
      "source": [
        "import numpy as np\n",
        "import pandas as pd\n",
        "import matplotlib.pyplot as plt\n",
        "from sklearn.linear_model import LinearRegression\n",
        "from sklearn.metrics import r2_score\n",
        "\n",
        "# Selecionando os dados/ removendo a coluna de Espécie\n",
        "df = pd.DataFrame(dados)\n",
        "df.head()\n",
        "\n",
        "# Separando as variáveis em: preditora e resposta\n",
        "X = df[['Bathroom']]\n",
        "y = df['Rent']\n",
        "\n",
        "# Criando o modelo de regressão linear\n",
        "model = LinearRegression()\n",
        "model.fit(X, y)\n",
        "\n",
        "# Fazendo previsões\n",
        "y_pred = model.predict(X)\n",
        "\n",
        "# Calculando o coeficiente de determinação (R²)\n",
        "r2 = r2_score(y, y_pred)\n",
        "\n",
        "# Coeficientes da regressão\n",
        "intercept = model.intercept_\n",
        "coef = model.coef_[0]\n",
        "\n",
        "# Imprimir resultados\n",
        "print(f'R²: {r2}')\n",
        "print(f'Intercepto: {intercept}')\n",
        "print(f'Coeficiente: {coef}')\n",
        "\n",
        "# Plotando o gráfico\n",
        "plt.scatter(X, y, color='blue', label='Dados Reais')\n",
        "plt.plot(X, y_pred, color='red', label='Reta da Regressão')\n",
        "plt.xlabel('Tamanho da Casa (m²)')\n",
        "plt.ylabel('Preço (R$)')\n",
        "plt.title('Regressão Linear - Aluguel vs Tamanho')\n",
        "plt.legend()\n",
        "plt.show()"
      ]
    },
    {
      "cell_type": "markdown",
      "metadata": {
        "id": "Vs98DbO7LcLK"
      },
      "source": [
        "\n",
        "\n",
        "---\n",
        "\n"
      ]
    },
    {
      "cell_type": "markdown",
      "metadata": {
        "id": "ovgr_cz3Lc90"
      },
      "source": [
        "# Classificação"
      ]
    },
    {
      "cell_type": "markdown",
      "metadata": {
        "id": "TqlvESuXLgn5"
      },
      "source": [
        "## Questão 1\n",
        "\n",
        "Incluir o conjunto de dados na entrega do notebook.\n",
        "\n",
        "Em uma célula do mesmo notebook crie um texto com markdown, incluindo formatação com títulos, negrito, itálico e inclusão de figuras para explicar:\n",
        "\n",
        "Explique simplificadamente o que é o modelo de classificação e quando estes modelos podem ser utilizados.\n",
        "Apresente um pequeno exemplo numérico utilizando o que foi aprendido no curso, utilizando um conjunto de dados que não foi visto no curso (pode ser de qualquer lugar na internet) e imprimindo, utilizando validação cruzada, os seguintes resultados:\n",
        "Acurácia\n",
        "Matriz de confusão\n",
        "\n",
        "*Os conjuntos de dados devem ser diferentes entre os alunos\n"
      ]
    },
    {
      "cell_type": "markdown",
      "source": [
        "### Modelo de Classificação\n",
        "\n",
        "**O que é um modelo de classificação?**\n",
        "\n",
        "Um modelo de classificação é uma técnica utilizada para **categorizar** ou **classificar** dados em grupos ou classes. Ao invés de prever um valor contínuo (como na regressão), a classificação tenta adivinhar a qual grupo algo pertence.\n",
        "\n",
        "Por exemplo, imagine que você tenha várias imagens de animais e queira que o computador diga se é um cachorro ou um gato. O modelo de classificação aprende com imagens anteriores para decidir a categoria de uma nova imagem.\n",
        "\n",
        "**Quando utilizamos modelos de classificação?**\n",
        "\n",
        "Usamos esses modelos quando precisamos classificar dados em **categorias**. Alguns exemplos são:\n",
        "- Decidir se um e-mail é **spam** ou **não spam**.\n",
        "- Classificar pacientes como **doentes** ou **saudáveis**.\n",
        "- Identificar se uma transação financeira é **fraudulenta** ou **não fraudulenta**."
      ],
      "metadata": {
        "id": "_5acNNqZ-W6X"
      }
    },
    {
      "cell_type": "code",
      "source": [
        "from google.colab import files\n",
        "\n",
        "# Isso abrirá uma janela de upload de arquivo no seu navegador\n",
        "uploaded = files.upload()"
      ],
      "metadata": {
        "id": "tZdj5u3SFF_r"
      },
      "execution_count": null,
      "outputs": []
    },
    {
      "cell_type": "code",
      "source": [
        "from os import sep\n",
        "import numpy as np\n",
        "import pandas as pd\n",
        "from sklearn.model_selection import train_test_split, cross_val_score\n",
        "from sklearn.metrics import accuracy_score, confusion_matrix\n",
        "from sklearn.tree import DecisionTreeClassifier\n",
        "from sklearn.datasets import load_wine\n",
        "\n",
        "# Carregar o conjunto de dados Espécies de peixes\n",
        "data = load_wine()\n",
        "\n",
        "# Separar as features (X) e o target (y)\n",
        "X = data['data']\n",
        "y = data['target']\n",
        "\n",
        "# Separar os dados em treino e teste\n",
        "X_train, X_test, y_train, y_test = train_test_split(X, y, test_size=0.2, random_state=42)\n",
        "\n",
        "# Criar o modelo de classificação (Árvore de Decisão)\n",
        "model = DecisionTreeClassifier()\n",
        "\n",
        "# Treinar o modelo\n",
        "model.fit(X_train, y_train)\n",
        "\n",
        "# Fazer previsões\n",
        "y_pred = model.predict(X_test)\n",
        "\n",
        "# Calcular a acurácia\n",
        "accuracy = accuracy_score(y_test, y_pred)\n",
        "\n",
        "# Calcular a matriz de confusão\n",
        "conf_matrix = confusion_matrix(y_test, y_pred)\n",
        "\n",
        "# Imprimir os resultados\n",
        "print(f'Acurácia: {accuracy * 100:.2f}%')\n",
        "print('Matriz de Confusão:')\n",
        "print(conf_matrix)\n"
      ],
      "metadata": {
        "colab": {
          "base_uri": "https://localhost:8080/"
        },
        "id": "jxK7tBxX-0s_",
        "outputId": "3a119b76-4899-4f2d-85ef-56bbe12f49db"
      },
      "execution_count": null,
      "outputs": [
        {
          "output_type": "stream",
          "name": "stdout",
          "text": [
            "Acurácia: 94.44%\n",
            "Matriz de Confusão:\n",
            "[[13  1  0]\n",
            " [ 0 14  0]\n",
            " [ 0  1  7]]\n"
          ]
        }
      ]
    },
    {
      "cell_type": "markdown",
      "metadata": {
        "id": "WovQMpD2LycE"
      },
      "source": [
        "\n",
        "\n",
        "---\n",
        "\n"
      ]
    },
    {
      "cell_type": "markdown",
      "metadata": {
        "id": "9i84hmXHLzUE"
      },
      "source": [
        "# Agrupamento"
      ]
    },
    {
      "cell_type": "markdown",
      "source": [
        "## Questão 1\n",
        "\n",
        "Incluir o conjunto de dados na entrega do notebook.\n",
        "\n",
        "Em uma célula do mesmo notebook crie um texto com markdown, incluindo formatação com títulos, negrito, itálico e inclusão de figuras para explicar:\n",
        "\n",
        "Explique simplificadamente o que é o modelo de Análise de Componentes Principais (PCA) e quando estes modelos podem ser utilizados.\n",
        "Apresente um pequeno exemplo numérico utilizando o que foi aprendido no curso, utilizando um conjunto de dados que não foi visto no curso (pode ser de qualquer lugar na internet) e imprimindo, os seguintes resultados:\n",
        "Variância explicada por cada componente\n",
        "\n",
        "Faça um gráfico com os scores do PCA colorindo pelos grupos do seu conjunto de dados.\n",
        "\n",
        "*Os conjuntos de dados devem ser diferentes entre os alunos"
      ],
      "metadata": {
        "id": "j2EmD6sarUEe"
      }
    },
    {
      "cell_type": "markdown",
      "metadata": {
        "id": "bBGMU5dmL4O3"
      },
      "source": [
        "### Agrupamento\n",
        "\n",
        "**O que é PCA?**\n",
        "\n",
        "A **Análise de Componentes Principais (PCA)** é uma técnica utilizada para **reduzir a quantidade de variáveis** em um conjunto de dados, mantendo o máximo de informação possível. Quando temos muitos dados, o PCA nos ajuda a resumir essas informações em um número menor de **componentes principais**.\n",
        "\n",
        "Esses componentes principais são combinações das variáveis originais, mas de forma a capturar a maior parte da **variação** nos dados. O primeiro componente principal (PC1) explica a maior parte da variância, o segundo componente (PC2) explica o que sobrou, e assim por diante.\n",
        "\n",
        " **Quando utilizamos PCA?**\n",
        "\n",
        "- Quando temos um **grande número de variáveis** e queremos simplificar a análise.\n",
        "- Para **visualizar** dados complexos em 2D ou 3D.\n",
        "- Para **remover correlações** entre variáveis.\n",
        "- Em **modelagem preditiva**, para reduzir a dimensionalidade dos dados e melhorar a performance de modelos de machine learning.\n",
        "\n",
        "**Exemplo Numérico: Conjunto de Dados de Vinhos**\n",
        "\n",
        "Neste exemplo, vamos aplicar o PCA ao conjunto de dados de **vinhos**, que contém 13 variáveis diferentes (características químicas do vinho) e classifica os vinhos em três tipos diferentes.\n",
        "\n",
        "O objetivo é:\n",
        "1. **Aplicar PCA** para reduzir essas 13 variáveis em apenas 2 componentes principais.\n",
        "2. Verificar a **variância explicada** por cada um dos componentes.\n",
        "3. **Visualizar os dados** usando os dois primeiros componentes e colorir os vinhos de acordo com seus tipos.\n",
        "\n"
      ]
    },
    {
      "cell_type": "code",
      "execution_count": null,
      "metadata": {
        "id": "hzd7zr7YY4e2",
        "colab": {
          "base_uri": "https://localhost:8080/",
          "height": 599
        },
        "outputId": "c34b4563-9f8f-4c7a-b1d3-4520b49a8856"
      },
      "outputs": [
        {
          "output_type": "stream",
          "name": "stdout",
          "text": [
            "Variância explicada pelo PC1: 36.20%\n",
            "Variância explicada pelo PC2: 19.21%\n"
          ]
        },
        {
          "output_type": "display_data",
          "data": {
            "text/plain": [
              "<Figure size 800x600 with 1 Axes>"
            ],
            "image/png": "[encoded data removed]"
          },
          "metadata": {}
        }
      ],
      "source": [
        "import pandas as pd\n",
        "import matplotlib.pyplot as plt\n",
        "from sklearn.decomposition import PCA\n",
        "from sklearn.preprocessing import StandardScaler\n",
        "from sklearn.datasets import load_wine\n",
        "\n",
        "# Carregar o conjunto de dados de vinhos\n",
        "data = load_wine()\n",
        "X = data['data']\n",
        "y = data['target']\n",
        "target_names = data['target_names']\n",
        "\n",
        "# Padronizar os dados\n",
        "scaler = StandardScaler()\n",
        "X_scaled = scaler.fit_transform(X)\n",
        "\n",
        "# Aplicar PCA para reduzir a dimensionalidade\n",
        "pca = PCA(n_components=2)\n",
        "X_pca = pca.fit_transform(X_scaled)\n",
        "\n",
        "# Variância explicada por cada componente principal\n",
        "explained_variance = pca.explained_variance_ratio_\n",
        "\n",
        "# Imprimir a variância explicada\n",
        "print(f'Variância explicada pelo PC1: {explained_variance[0] * 100:.2f}%')\n",
        "print(f'Variância explicada pelo PC2: {explained_variance[1] * 100:.2f}%')\n",
        "\n",
        "# Gráfico com os scores do PCA, colorindo pelos grupos\n",
        "plt.figure(figsize=(8,6))\n",
        "colors = ['navy', 'turquoise', 'darkorange']\n",
        "lw = 2\n",
        "\n",
        "for color, i, target_name in zip(colors, [0, 1, 2], target_names):\n",
        "    plt.scatter(X_pca[y == i, 0], X_pca[y == i, 1], color=color, alpha=.8, lw=lw, label=target_name)\n",
        "\n",
        "plt.legend(loc='best', shadow=False, scatterpoints=1)\n",
        "plt.title('PCA de Vinho')\n",
        "plt.xlabel('Componente Principal 1')\n",
        "plt.ylabel('Componente Principal 2')\n",
        "plt.show()\n"
      ]
    },
    {
      "cell_type": "code",
      "source": [
        "df = pd.DataFrame(data.data, columns=data.feature_names)\n",
        "df['target'] = pd.Series(data.target)\n",
        "df.head()"
      ],
      "metadata": {
        "colab": {
          "base_uri": "https://localhost:8080/",
          "height": 226
        },
        "id": "QD2zfpmBnnrV",
        "outputId": "1fb041cb-d1cc-42a9-8ee2-0aa6f404b999"
      },
      "execution_count": null,
      "outputs": [
        {
          "output_type": "execute_result",
          "data": {
            "text/plain": [
              "   alcohol  malic_acid   ash  alcalinity_of_ash  magnesium  total_phenols  \\\n",
              "0    14.23        1.71  2.43               15.6      127.0           2.80   \n",
              "1    13.20        1.78  2.14               11.2      100.0           2.65   \n",
              "2    13.16        2.36  2.67               18.6      101.0           2.80   \n",
              "3    14.37        1.95  2.50               16.8      113.0           3.85   \n",
              "4    13.24        2.59  2.87               21.0      118.0           2.80   \n",
              "\n",
              "   flavanoids  nonflavanoid_phenols  proanthocyanins  color_intensity   hue  \\\n",
              "0        3.06                  0.28             2.29             5.64  1.04   \n",
              "1        2.76                  0.26             1.28             4.38  1.05   \n",
              "2        3.24                  0.30             2.81             5.68  1.03   \n",
              "3        3.49                  0.24             2.18             7.80  0.86   \n",
              "4        2.69                  0.39             1.82             4.32  1.04   \n",
              "\n",
              "   od280/od315_of_diluted_wines  proline  target  \n",
              "0                          3.92   1065.0       0  \n",
              "1                          3.40   1050.0       0  \n",
              "2                          3.17   1185.0       0  \n",
              "3                          3.45   1480.0       0  \n",
              "4                          2.93    735.0       0  "
            ],
            "text/html": [
              "\n",
              "  <div id=\"df-eb2e4b77-fa17-44a8-b652-adff3195625f\" class=\"colab-df-container\">\n",
              "    <div>\n",
              "<style scoped>\n",
              "    .dataframe tbody tr th:only-of-type {\n",
              "        vertical-align: middle;\n",
              "    }\n",
              "\n",
              "    .dataframe tbody tr th {\n",
              "        vertical-align: top;\n",
              "    }\n",
              "\n",
              "    .dataframe thead th {\n",
              "        text-align: right;\n",
              "    }\n",
              "</style>\n",
              "<table border=\"1\" class=\"dataframe\">\n",
              "  <thead>\n",
              "    <tr style=\"text-align: right;\">\n",
              "      <th></th>\n",
              "      <th>alcohol</th>\n",
              "      <th>malic_acid</th>\n",
              "      <th>ash</th>\n",
              "      <th>alcalinity_of_ash</th>\n",
              "      <th>magnesium</th>\n",
              "      <th>total_phenols</th>\n",
              "      <th>flavanoids</th>\n",
              "      <th>nonflavanoid_phenols</th>\n",
              "      <th>proanthocyanins</th>\n",
              "      <th>color_intensity</th>\n",
              "      <th>hue</th>\n",
              "      <th>od280/od315_of_diluted_wines</th>\n",
              "      <th>proline</th>\n",
              "      <th>target</th>\n",
              "    </tr>\n",
              "  </thead>\n",
              "  <tbody>\n",
              "    <tr>\n",
              "      <th>0</th>\n",
              "      <td>14.23</td>\n",
              "      <td>1.71</td>\n",
              "      <td>2.43</td>\n",
              "      <td>15.6</td>\n",
              "      <td>127.0</td>\n",
              "      <td>2.80</td>\n",
              "      <td>3.06</td>\n",
              "      <td>0.28</td>\n",
              "      <td>2.29</td>\n",
              "      <td>5.64</td>\n",
              "      <td>1.04</td>\n",
              "      <td>3.92</td>\n",
              "      <td>1065.0</td>\n",
              "      <td>0</td>\n",
              "    </tr>\n",
              "    <tr>\n",
              "      <th>1</th>\n",
              "      <td>13.20</td>\n",
              "      <td>1.78</td>\n",
              "      <td>2.14</td>\n",
              "      <td>11.2</td>\n",
              "      <td>100.0</td>\n",
              "      <td>2.65</td>\n",
              "      <td>2.76</td>\n",
              "      <td>0.26</td>\n",
              "      <td>1.28</td>\n",
              "      <td>4.38</td>\n",
              "      <td>1.05</td>\n",
              "      <td>3.40</td>\n",
              "      <td>1050.0</td>\n",
              "      <td>0</td>\n",
              "    </tr>\n",
              "    <tr>\n",
              "      <th>2</th>\n",
              "      <td>13.16</td>\n",
              "      <td>2.36</td>\n",
              "      <td>2.67</td>\n",
              "      <td>18.6</td>\n",
              "      <td>101.0</td>\n",
              "      <td>2.80</td>\n",
              "      <td>3.24</td>\n",
              "      <td>0.30</td>\n",
              "      <td>2.81</td>\n",
              "      <td>5.68</td>\n",
              "      <td>1.03</td>\n",
              "      <td>3.17</td>\n",
              "      <td>1185.0</td>\n",
              "      <td>0</td>\n",
              "    </tr>\n",
              "    <tr>\n",
              "      <th>3</th>\n",
              "      <td>14.37</td>\n",
              "      <td>1.95</td>\n",
              "      <td>2.50</td>\n",
              "      <td>16.8</td>\n",
              "      <td>113.0</td>\n",
              "      <td>3.85</td>\n",
              "      <td>3.49</td>\n",
              "      <td>0.24</td>\n",
              "      <td>2.18</td>\n",
              "      <td>7.80</td>\n",
              "      <td>0.86</td>\n",
              "      <td>3.45</td>\n",
              "      <td>1480.0</td>\n",
              "      <td>0</td>\n",
              "    </tr>\n",
              "    <tr>\n",
              "      <th>4</th>\n",
              "      <td>13.24</td>\n",
              "      <td>2.59</td>\n",
              "      <td>2.87</td>\n",
              "      <td>21.0</td>\n",
              "      <td>118.0</td>\n",
              "      <td>2.80</td>\n",
              "      <td>2.69</td>\n",
              "      <td>0.39</td>\n",
              "      <td>1.82</td>\n",
              "      <td>4.32</td>\n",
              "      <td>1.04</td>\n",
              "      <td>2.93</td>\n",
              "      <td>735.0</td>\n",
              "      <td>0</td>\n",
              "    </tr>\n",
              "  </tbody>\n",
              "</table>\n",
              "</div>\n",
              "    <div class=\"colab-df-buttons\">\n",
              "\n",
              "  <div class=\"colab-df-container\">\n",
              "    <button class=\"colab-df-convert\" onclick=\"convertToInteractive('df-eb2e4b77-fa17-44a8-b652-adff3195625f')\"\n",
              "            title=\"Convert this dataframe to an interactive table.\"\n",
              "            style=\"display:none;\">\n",
              "\n",
              "  <svg xmlns=\"http://www.w3.org/2000/svg\" height=\"24px\" viewBox=\"0 -960 960 960\">\n",
              "    <path d=\"M120-120v-720h720v720H120Zm60-500h600v-160H180v160Zm220 220h160v-160H400v160Zm0 220h160v-160H400v160ZM180-400h160v-160H180v160Zm440 0h160v-160H620v160ZM180-180h160v-160H180v160Zm440 0h160v-160H620v160Z\"/>\n",
              "  </svg>\n",
              "    </button>\n",
              "\n",
              "  <style>\n",
              "    .colab-df-container {\n",
              "      display:flex;\n",
              "      gap: 12px;\n",
              "    }\n",
              "\n",
              "    .colab-df-convert {\n",
              "      background-color: #E8F0FE;\n",
              "      border: none;\n",
              "      border-radius: 50%;\n",
              "      cursor: pointer;\n",
              "      display: none;\n",
              "      fill: #1967D2;\n",
              "      height: 32px;\n",
              "      padding: 0 0 0 0;\n",
              "      width: 32px;\n",
              "    }\n",
              "\n",
              "    .colab-df-convert:hover {\n",
              "      background-color: #E2EBFA;\n",
              "      box-shadow: 0px 1px 2px rgba(60, 64, 67, 0.3), 0px 1px 3px 1px rgba(60, 64, 67, 0.15);\n",
              "      fill: #174EA6;\n",
              "    }\n",
              "\n",
              "    .colab-df-buttons div {\n",
              "      margin-bottom: 4px;\n",
              "    }\n",
              "\n",
              "    [theme=dark] .colab-df-convert {\n",
              "      background-color: #3B4455;\n",
              "      fill: #D2E3FC;\n",
              "    }\n",
              "\n",
              "    [theme=dark] .colab-df-convert:hover {\n",
              "      background-color: #434B5C;\n",
              "      box-shadow: 0px 1px 3px 1px rgba(0, 0, 0, 0.15);\n",
              "      filter: drop-shadow(0px 1px 2px rgba(0, 0, 0, 0.3));\n",
              "      fill: #FFFFFF;\n",
              "    }\n",
              "  </style>\n",
              "\n",
              "    <script>\n",
              "      const buttonEl =\n",
              "        document.querySelector('#df-eb2e4b77-fa17-44a8-b652-adff3195625f button.colab-df-convert');\n",
              "      buttonEl.style.display =\n",
              "        google.colab.kernel.accessAllowed ? 'block' : 'none';\n",
              "\n",
              "      async function convertToInteractive(key) {\n",
              "        const element = document.querySelector('#df-eb2e4b77-fa17-44a8-b652-adff3195625f');\n",
              "        const dataTable =\n",
              "          await google.colab.kernel.invokeFunction('convertToInteractive',\n",
              "                                                    [key], {});\n",
              "        if (!dataTable) return;\n",
              "\n",
              "        const docLinkHtml = 'Like what you see? Visit the ' +\n",
              "          '<a target=\"_blank\" href=https://colab.research.google.com/notebooks/data_table.ipynb>data table notebook</a>'\n",
              "          + ' to learn more about interactive tables.';\n",
              "        element.innerHTML = '';\n",
              "        dataTable['output_type'] = 'display_data';\n",
              "        await google.colab.output.renderOutput(dataTable, element);\n",
              "        const docLink = document.createElement('div');\n",
              "        docLink.innerHTML = docLinkHtml;\n",
              "        element.appendChild(docLink);\n",
              "      }\n",
              "    </script>\n",
              "  </div>\n",
              "\n",
              "\n",
              "<div id=\"df-8197c522-4548-4933-a9cd-2ec1bef7e0fc\">\n",
              "  <button class=\"colab-df-quickchart\" onclick=\"quickchart('df-8197c522-4548-4933-a9cd-2ec1bef7e0fc')\"\n",
              "            title=\"Suggest charts\"\n",
              "            style=\"display:none;\">\n",
              "\n",
              "<svg xmlns=\"http://www.w3.org/2000/svg\" height=\"24px\"viewBox=\"0 0 24 24\"\n",
              "     width=\"24px\">\n",
              "    <g>\n",
              "        <path d=\"M19 3H5c-1.1 0-2 .9-2 2v14c0 1.1.9 2 2 2h14c1.1 0 2-.9 2-2V5c0-1.1-.9-2-2-2zM9 17H7v-7h2v7zm4 0h-2V7h2v10zm4 0h-2v-4h2v4z\"/>\n",
              "    </g>\n",
              "</svg>\n",
              "  </button>\n",
              "\n",
              "<style>\n",
              "  .colab-df-quickchart {\n",
              "      --bg-color: #E8F0FE;\n",
              "      --fill-color: #1967D2;\n",
              "      --hover-bg-color: #E2EBFA;\n",
              "      --hover-fill-color: #174EA6;\n",
              "      --disabled-fill-color: #AAA;\n",
              "      --disabled-bg-color: #DDD;\n",
              "  }\n",
              "\n",
              "  [theme=dark] .colab-df-quickchart {\n",
              "      --bg-color: #3B4455;\n",
              "      --fill-color: #D2E3FC;\n",
              "      --hover-bg-color: #434B5C;\n",
              "      --hover-fill-color: #FFFFFF;\n",
              "      --disabled-bg-color: #3B4455;\n",
              "      --disabled-fill-color: #666;\n",
              "  }\n",
              "\n",
              "  .colab-df-quickchart {\n",
              "    background-color: var(--bg-color);\n",
              "    border: none;\n",
              "    border-radius: 50%;\n",
              "    cursor: pointer;\n",
              "    display: none;\n",
              "    fill: var(--fill-color);\n",
              "    height: 32px;\n",
              "    padding: 0;\n",
              "    width: 32px;\n",
              "  }\n",
              "\n",
              "  .colab-df-quickchart:hover {\n",
              "    background-color: var(--hover-bg-color);\n",
              "    box-shadow: 0 1px 2px rgba(60, 64, 67, 0.3), 0 1px 3px 1px rgba(60, 64, 67, 0.15);\n",
              "    fill: var(--button-hover-fill-color);\n",
              "  }\n",
              "\n",
              "  .colab-df-quickchart-complete:disabled,\n",
              "  .colab-df-quickchart-complete:disabled:hover {\n",
              "    background-color: var(--disabled-bg-color);\n",
              "    fill: var(--disabled-fill-color);\n",
              "    box-shadow: none;\n",
              "  }\n",
              "\n",
              "  .colab-df-spinner {\n",
              "    border: 2px solid var(--fill-color);\n",
              "    border-color: transparent;\n",
              "    border-bottom-color: var(--fill-color);\n",
              "    animation:\n",
              "      spin 1s steps(1) infinite;\n",
              "  }\n",
              "\n",
              "  @keyframes spin {\n",
              "    0% {\n",
              "      border-color: transparent;\n",
              "      border-bottom-color: var(--fill-color);\n",
              "      border-left-color: var(--fill-color);\n",
              "    }\n",
              "    20% {\n",
              "      border-color: transparent;\n",
              "      border-left-color: var(--fill-color);\n",
              "      border-top-color: var(--fill-color);\n",
              "    }\n",
              "    30% {\n",
              "      border-color: transparent;\n",
              "      border-left-color: var(--fill-color);\n",
              "      border-top-color: var(--fill-color);\n",
              "      border-right-color: var(--fill-color);\n",
              "    }\n",
              "    40% {\n",
              "      border-color: transparent;\n",
              "      border-right-color: var(--fill-color);\n",
              "      border-top-color: var(--fill-color);\n",
              "    }\n",
              "    60% {\n",
              "      border-color: transparent;\n",
              "      border-right-color: var(--fill-color);\n",
              "    }\n",
              "    80% {\n",
              "      border-color: transparent;\n",
              "      border-right-color: var(--fill-color);\n",
              "      border-bottom-color: var(--fill-color);\n",
              "    }\n",
              "    90% {\n",
              "      border-color: transparent;\n",
              "      border-bottom-color: var(--fill-color);\n",
              "    }\n",
              "  }\n",
              "</style>\n",
              "\n",
              "  <script>\n",
              "    async function quickchart(key) {\n",
              "      const quickchartButtonEl =\n",
              "        document.querySelector('#' + key + ' button');\n",
              "      quickchartButtonEl.disabled = true;  // To prevent multiple clicks.\n",
              "      quickchartButtonEl.classList.add('colab-df-spinner');\n",
              "      try {\n",
              "        const charts = await google.colab.kernel.invokeFunction(\n",
              "            'suggestCharts', [key], {});\n",
              "      } catch (error) {\n",
              "        console.error('Error during call to suggestCharts:', error);\n",
              "      }\n",
              "      quickchartButtonEl.classList.remove('colab-df-spinner');\n",
              "      quickchartButtonEl.classList.add('colab-df-quickchart-complete');\n",
              "    }\n",
              "    (() => {\n",
              "      let quickchartButtonEl =\n",
              "        document.querySelector('#df-8197c522-4548-4933-a9cd-2ec1bef7e0fc button');\n",
              "      quickchartButtonEl.style.display =\n",
              "        google.colab.kernel.accessAllowed ? 'block' : 'none';\n",
              "    })();\n",
              "  </script>\n",
              "</div>\n",
              "\n",
              "    </div>\n",
              "  </div>\n"
            ],
            "application/vnd.google.colaboratory.intrinsic+json": {
              "type": "dataframe",
              "variable_name": "df",
              "summary": "{\n  \"name\": \"df\",\n  \"rows\": 178,\n  \"fields\": [\n    {\n      \"column\": \"alcohol\",\n      \"properties\": {\n        \"dtype\": \"number\",\n        \"std\": 0.8118265380058577,\n        \"min\": 11.03,\n        \"max\": 14.83,\n        \"num_unique_values\": 126,\n        \"samples\": [\n          11.62,\n          13.64,\n          13.69\n        ],\n        \"semantic_type\": \"\",\n        \"description\": \"\"\n      }\n    },\n    {\n      \"column\": \"malic_acid\",\n      \"properties\": {\n        \"dtype\": \"number\",\n        \"std\": 1.1171460976144627,\n        \"min\": 0.74,\n        \"max\": 5.8,\n        \"num_unique_values\": 133,\n        \"samples\": [\n          1.21,\n          2.83,\n          1.8\n        ],\n        \"semantic_type\": \"\",\n        \"description\": \"\"\n      }\n    },\n    {\n      \"column\": \"ash\",\n      \"properties\": {\n        \"dtype\": \"number\",\n        \"std\": 0.2743440090608148,\n        \"min\": 1.36,\n        \"max\": 3.23,\n        \"num_unique_values\": 79,\n        \"samples\": [\n          2.31,\n          2.43,\n          2.52\n        ],\n        \"semantic_type\": \"\",\n        \"description\": \"\"\n      }\n    },\n    {\n      \"column\": \"alcalinity_of_ash\",\n      \"properties\": {\n        \"dtype\": \"number\",\n        \"std\": 3.3395637671735052,\n        \"min\": 10.6,\n        \"max\": 30.0,\n        \"num_unique_values\": 63,\n        \"samples\": [\n          25.5,\n          28.5,\n          15.6\n        ],\n        \"semantic_type\": \"\",\n        \"description\": \"\"\n      }\n    },\n    {\n      \"column\": \"magnesium\",\n      \"properties\": {\n        \"dtype\": \"number\",\n        \"std\": 14.282483515295668,\n        \"min\": 70.0,\n        \"max\": 162.0,\n        \"num_unique_values\": 53,\n        \"samples\": [\n          126.0,\n          85.0,\n          162.0\n        ],\n        \"semantic_type\": \"\",\n        \"description\": \"\"\n      }\n    },\n    {\n      \"column\": \"total_phenols\",\n      \"properties\": {\n        \"dtype\": \"number\",\n        \"std\": 0.6258510488339891,\n        \"min\": 0.98,\n        \"max\": 3.88,\n        \"num_unique_values\": 97,\n        \"samples\": [\n          1.68,\n          2.11,\n          1.35\n        ],\n        \"semantic_type\": \"\",\n        \"description\": \"\"\n      }\n    },\n    {\n      \"column\": \"flavanoids\",\n      \"properties\": {\n        \"dtype\": \"number\",\n        \"std\": 0.9988586850169465,\n        \"min\": 0.34,\n        \"max\": 5.08,\n        \"num_unique_values\": 132,\n        \"samples\": [\n          3.18,\n          2.5,\n          3.17\n        ],\n        \"semantic_type\": \"\",\n        \"description\": \"\"\n      }\n    },\n    {\n      \"column\": \"nonflavanoid_phenols\",\n      \"properties\": {\n        \"dtype\": \"number\",\n        \"std\": 0.12445334029667939,\n        \"min\": 0.13,\n        \"max\": 0.66,\n        \"num_unique_values\": 39,\n        \"samples\": [\n          0.58,\n          0.41,\n          0.39\n        ],\n        \"semantic_type\": \"\",\n        \"description\": \"\"\n      }\n    },\n    {\n      \"column\": \"proanthocyanins\",\n      \"properties\": {\n        \"dtype\": \"number\",\n        \"std\": 0.5723588626747611,\n        \"min\": 0.41,\n        \"max\": 3.58,\n        \"num_unique_values\": 101,\n        \"samples\": [\n          0.75,\n          1.77,\n          1.42\n        ],\n        \"semantic_type\": \"\",\n        \"description\": \"\"\n      }\n    },\n    {\n      \"column\": \"color_intensity\",\n      \"properties\": {\n        \"dtype\": \"number\",\n        \"std\": 2.318285871822413,\n        \"min\": 1.28,\n        \"max\": 13.0,\n        \"num_unique_values\": 132,\n        \"samples\": [\n          2.95,\n          3.3,\n          5.1\n        ],\n        \"semantic_type\": \"\",\n        \"description\": \"\"\n      }\n    },\n    {\n      \"column\": \"hue\",\n      \"properties\": {\n        \"dtype\": \"number\",\n        \"std\": 0.22857156582982338,\n        \"min\": 0.48,\n        \"max\": 1.71,\n        \"num_unique_values\": 78,\n        \"samples\": [\n          1.22,\n          1.04,\n          1.45\n        ],\n        \"semantic_type\": \"\",\n        \"description\": \"\"\n      }\n    },\n    {\n      \"column\": \"od280/od315_of_diluted_wines\",\n      \"properties\": {\n        \"dtype\": \"number\",\n        \"std\": 0.7099904287650505,\n        \"min\": 1.27,\n        \"max\": 4.0,\n        \"num_unique_values\": 122,\n        \"samples\": [\n          4.0,\n          1.82,\n          1.59\n        ],\n        \"semantic_type\": \"\",\n        \"description\": \"\"\n      }\n    },\n    {\n      \"column\": \"proline\",\n      \"properties\": {\n        \"dtype\": \"number\",\n        \"std\": 314.9074742768489,\n        \"min\": 278.0,\n        \"max\": 1680.0,\n        \"num_unique_values\": 121,\n        \"samples\": [\n          1375.0,\n          1270.0,\n          735.0\n        ],\n        \"semantic_type\": \"\",\n        \"description\": \"\"\n      }\n    },\n    {\n      \"column\": \"target\",\n      \"properties\": {\n        \"dtype\": \"number\",\n        \"std\": 0,\n        \"min\": 0,\n        \"max\": 2,\n        \"num_unique_values\": 3,\n        \"samples\": [\n          0,\n          1,\n          2\n        ],\n        \"semantic_type\": \"\",\n        \"description\": \"\"\n      }\n    }\n  ]\n}"
            }
          },
          "metadata": {},
          "execution_count": 14
        }
      ]
    }
  ],
  "metadata": {
    "colab": {
      "provenance": [],
      "authorship_tag": "ABX9TyNPc1z3f3kL1sl6PgBppoa5",
      "include_colab_link": true
    },
    "kernelspec": {
      "display_name": "Python 3",
      "name": "python3"
    },
    "language_info": {
      "name": "python"
    }
  },
  "nbformat": 4,
  "nbformat_minor": 0
}